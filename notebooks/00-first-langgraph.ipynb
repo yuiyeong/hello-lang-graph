{
 "cells": [
  {
   "cell_type": "markdown",
   "id": "76a05c51583e4e3c",
   "metadata": {
    "collapsed": true
   },
   "source": [
    "## LangChain vs LangGraph\n",
    "\n",
    "- LangChain 을 사용했을 때와 LangGraph 를 사용했을 때 어떻게 달라지는지 비교\n",
    "- 여기는 ollama 를 이용해서 LLM 을 사용"
   ]
  },
  {
   "cell_type": "markdown",
   "id": "40ab4dbdf5fd379c",
   "metadata": {},
   "source": "### LangChain"
  },
  {
   "cell_type": "code",
   "execution_count": 1,
   "id": "91397279a9c34e29",
   "metadata": {
    "ExecuteTime": {
     "end_time": "2025-09-19T12:45:52.477532Z",
     "start_time": "2025-09-19T12:45:52.175481Z"
    }
   },
   "outputs": [],
   "source": [
    "from langchain_ollama import ChatOllama\n",
    "\n",
    "\n",
    "llm = ChatOllama(model=\"gpt-oss:20b\")"
   ]
  },
  {
   "cell_type": "code",
   "execution_count": 2,
   "id": "377e52847ede21f5",
   "metadata": {
    "ExecuteTime": {
     "end_time": "2025-09-19T12:46:28.741103Z",
     "start_time": "2025-09-19T12:45:52.480475Z"
    }
   },
   "outputs": [
    {
     "data": {
      "text/plain": [
       "AIMessage(content='## AI Agent란 무엇인가요?  \\n\\n### 1️⃣ 정의  \\n**AI Agent**는 “환경을 관찰(Perceive) → 판단(Decide/Deliberate) → 행동(Act) → 보상(Reward/Feedback) → 학습(Learn)” 과정을 반복하면서 주어진 목표를 달성하려고 설계된 소프트웨어(또는 하드웨어) 시스템입니다.  \\n- **감각(Perception)** : 센서(카메라, 마이크, 데이터 API 등)나 사용자 입력으로부터 정보를 수집  \\n- **사고(Decision / Reasoning)** : 수집한 정보를 바탕으로 상태를 이해하고, 목표 달성을 위한 다음 행동을 선택  \\n- **행동(Action)** : 선택된 행동을 실행(예: 로봇이 움직이거나, 챗봇이 답변을 전송)  \\n- **보상(Reward / Feedback)** : 행동 결과가 얼마나 목표에 부합했는지 평가  \\n- **학습(Learning)** : 보상을 이용해 향후 같은 상황에서 더 나은 행동을 선택하도록 모델을 개선\\n\\n> **요약**  \\n> *AI Agent는 자체적으로 **판단**하고 **행동**을 수행하며, 그 결과를 기반으로 **학습**해 스스로를 개선하는 체계입니다.*\\n\\n---\\n\\n### 2️⃣ 핵심 특성  \\n\\n| 특성 | 설명 |\\n|------|------|\\n| **자율성(Autonomy)** | 외부 명령이 없어도 자체적으로 상황을 판단하고 행동합니다. |\\n| **목표지향성(Objective‑driven)** | 명확한 목표(예: ‘방을 청소’, ‘음성인식’)를 달성하려고 노력합니다. |\\n| **적응성(Adaptability)** | 환경이 변해도 학습을 통해 새로운 상황에 대응합니다. |\\n| **상호작용(Interaction)** | 다른 Agent나 인간과 정보를 교환합니다. |\\n| **지식 기반(Knowledge‑based)** | 사전 지식(데이터, 규칙, 모델)을 활용해 판단합니다. |\\n\\n---\\n\\n### 3️⃣ AI Agent의 분류  \\n\\n| 분류 | 예시 | 특징 |\\n|------|------|------|\\n| **단순 Agent** | 텍스트 챗봇, 정적 FAQ 봇 | 규칙 기반, 제한된 상황만 대응 |\\n| **학습 Agent** | 강화학습 기반 로봇, AlphaGo | 경험을 통해 정책(policy)을 개선 |\\n| **다중 Agent** | 자율주행 차량 연합, 물류 드론 네트워크 | 서로 협력/경쟁하며 공동 목표 달성 |\\n| **인간-컴퓨터 상호작용 Agent** | Siri, Alexa, Google Assistant | 자연어 이해, 음성 명령 처리 |\\n| **물리적 Agent(Embodied)** | 로봇, 자율주행차 | 실제 물리 세계와 상호작용 |\\n| **가상 Agent** | 게임 NPC, 가상 비서 | 디지털 환경에서만 동작 |\\n\\n---\\n\\n### 4️⃣ 대표적인 AI Agent 사례  \\n\\n| 분야 | Agent | 주요 기능 |\\n|------|-------|-----------|\\n| **음성 비서** | Siri, Alexa, Google Assistant | 음성 인식 → 자연어 처리 → 명령 실행 |\\n| **챗봇** | ChatGPT, Replika | 대화형 AI, 텍스트 생성 |\\n| **로봇 청소기** | Roomba, Neato | 지도 작성 → 경로 계획 → 청소 |\\n| **자율주행** | Tesla Autopilot, Waymo | 센서 융합 → 상황 인식 → 경로 계획 |\\n| **게임 AI** | AlphaGo, OpenAI Five | 강화학습 → 전략 최적화 |\\n| **가상 비서** | Cortana, Bixby | 일정 관리, 정보 검색 |\\n| **다중 Agent** | 자율 항공 드론 군단 | 협력 비행, 작업 분배 |\\n\\n---\\n\\n### 5️⃣ AI Agent 구현 흐름 (일반적인 구조)\\n\\n```\\n  +-------------------+\\n  |   센서/데이터 소스   |\\n  +-------------------+\\n            ↓\\n  +-------------------+\\n  |  감지 & 전처리     |\\n  +-------------------+\\n            ↓\\n  +-------------------+\\n  |  상태 인식 / 추론 |\\n  +-------------------+\\n            ↓\\n  +-------------------+\\n  |   행동 선택 (Policy) |\\n  +-------------------+\\n            ↓\\n  +-------------------+\\n  |   액터(Actuator)   |\\n  +-------------------+\\n            ↓\\n  +-------------------+\\n  |   보상 신호 (Reward) |\\n  +-------------------+\\n            ↓\\n  +-------------------+\\n  |   학습 모듈 (RL, NN) |\\n  +-------------------+\\n```\\n\\n---\\n\\n### 6️⃣ AI Agent와 전통적 프로그램의 차이  \\n\\n| 항목 | 전통적 프로그램 | AI Agent |\\n|------|-----------------|----------|\\n| **입력** | 사전 정의된 조건 | 실시간 센서/인터넷 데이터 |\\n| **반응** | 고정된 조건문 | 동적으로 정책을 선택 |\\n| **학습** | 없음 | 환경으로부터 학습 |\\n| **목표** | 일반적으로 명령 수행 | 명확한 목표(최적화, 성과) 추구 |\\n| **유연성** | 낮음 | 높음 |\\n\\n---\\n\\n### 7️⃣ 최신 트렌드 (2024‑2025)\\n\\n1. **멀티모달 Agent** – 텍스트, 이미지, 음성, 비디오를 동시에 이해하고 생성  \\n2. **Self‑Supervised Learning** – 라벨 없는 데이터를 활용한 사전학습으로 Agent 성능 향상  \\n3. **Agent‑Based Simulation** – 물리적/가상 환경에서 Agent의 상호작용을 실험  \\n4. **Explainable AI Agents** – 의사결정 과정을 해석가능하게 설계  \\n5. **Edge AI Agents** – 모바일/IoT 디바이스에서 자체적으로 실행, 클라우드 부하 감소  \\n\\n---\\n\\n## 🎯 핵심 정리\\n\\n- **AI Agent**는 *자율적으로* 환경을 인식하고 판단해 행동을 실행하며, 그 결과를 통해 학습해 성능을 향상시키는 시스템.  \\n- 단순 챗봇부터 자율주행차, 다중 로봇 네트워크까지 폭넓게 활용된다.  \\n- 핵심 구성 요소는 **감지 → 판단 → 행동 → 보상 → 학습** 이며, 이 과정을 반복하면서 점점 더 나은 결과를 만들어낸다.\\n\\n궁금한 점이 더 있으면 언제든 물어보세요! 🚀', additional_kwargs={}, response_metadata={'model': 'gpt-oss:20b', 'created_at': '2025-09-19T12:46:28.732472Z', 'done': True, 'done_reason': 'stop', 'total_duration': 36250236333, 'load_duration': 3880284541, 'prompt_eval_count': 73, 'prompt_eval_duration': 457946542, 'eval_count': 1788, 'eval_duration': 31911388833, 'model_name': 'gpt-oss:20b'}, id='run--c9f1866d-5838-4192-8cae-43a6a89a3d25-0', usage_metadata={'input_tokens': 73, 'output_tokens': 1788, 'total_tokens': 1861})"
      ]
     },
     "execution_count": 2,
     "metadata": {},
     "output_type": "execute_result"
    }
   ],
   "source": [
    "query = \"AI Agent 가 뭐야?\"\n",
    "llm.invoke(query)"
   ]
  },
  {
   "cell_type": "markdown",
   "id": "8a7cb69f36ae287b",
   "metadata": {},
   "source": [
    "### LangGraph\n",
    "\n",
    "LangGraph는 상태(State)를 중심으로 노드(Node)와 전이(Edge)로 구성된 단방향 그래프 실행 엔진\n",
    "\n",
    "#### 핵심 요소\n",
    "\n",
    "- State: 그래프 전반에 공유되는 상태. 타입 스키마와 병합 규칙(reducer)을 정의해 노드 간 업데이트를 안전하게 합친다.\n",
    "- Node: 상태를 입력받아 일부 상태를 갱신해 반환하는 **실행 단위**(함수, 도구 호출, 서브그래프/에이전트 등).\n",
    "- Edge: 한 노드가 끝난 뒤 기본적으로 이어지는 다음 노드를 정의하는 **전이**(조건 없이 항상 그 경로로 이동하는 기본 전이).\n",
    "- Conditional Edge: _조건 함수의 결과에 따라_ 다음 노드를 동적으로 선택하는 전이(분기/루프 구현에 사용).\n",
    "- 특수 노드: `__start__` 또는 `START`(시작 노드), `__end__` 또는 `END`(종료). 그래프는 단방향이며, 필요 시 루프를 포함할 수 있다."
   ]
  },
  {
   "cell_type": "markdown",
   "id": "1020b799f4ba6c67",
   "metadata": {},
   "source": [
    "#### 간단한 실행 예시 시나리오\n",
    "\n",
    "목표: 사용자의 대화를 시작하고, 간단한 질문을 한 번 더 던진 뒤 종료하는 플로우\n",
    "\n",
    "- 초기 상태\n",
    "  - messages: 빈 리스트\n",
    "- 노드 구성(개념)\n",
    "  - greet: “안녕하세요!”와 같은 인사 메시지를 상태에 추가\n",
    "  - decide: 현재 메시지 수를 보고 계속 진행할지, 종료할지 결정\n",
    "  - more: “무엇을 도와드릴까요?”와 같은 추가 메시지를 상태에 추가\n",
    "- 전이(흐름)\n",
    "  1) `__start__` → greet\n",
    "     - 동작: 인사 메시지를 상태에 추가\n",
    "     - 상태 예: messages = [\"안녕하세요!\"]\n",
    "  2) greet → decide\n",
    "     - 동작: 현재 메시지 수를 평가\n",
    "     - 분기: 메시지가 아직 충분치 않으면 “more”로, 충분하면 종료로\n",
    "  3) decide → more (조건부)\n",
    "     - 동작: 추가 질문 메시지를 상태에 누적\n",
    "     - 상태 예: messages = [\"안녕하세요!\", \"무엇을 도와드릴까요?\"]\n",
    "  4) more → decide\n",
    "     - 동작: 다시 결정. 이제 메시지 수가 충분하다고 판단되어 종료 선택\n",
    "  5) decide → `END` (조건부)\n",
    "     - 동작: 그래프 실행 종료\n",
    "- 결과 상태(예)\n",
    "  - messages: [\"안녕하세요!\", \"무엇을 도와드릴까요?\"]\n",
    "  - decision: \"done\"\n",
    "\n",
    "포인트\n",
    "- 루프: decide → more → decide 구간에서 조건이 충족될 때까지 반복할 수 있습니다.\n",
    "- 상태 병합: 메시지처럼 누적이 필요한 값은 “추가/병합” 규칙을 두면 각 노드의 결과가 안전하게 합쳐집니다.\n",
    "- 재사용: greet/more 같은 노드는 다른 그래프나 서브그래프에서도 손쉽게 재사용 가능합니다."
   ]
  },
  {
   "cell_type": "code",
   "execution_count": 3,
   "id": "be9c15530c76f94f",
   "metadata": {
    "ExecuteTime": {
     "end_time": "2025-09-19T12:46:28.880911Z",
     "start_time": "2025-09-19T12:46:28.792754Z"
    }
   },
   "outputs": [],
   "source": [
    "from typing import Annotated, TypedDict\n",
    "\n",
    "from langchain_core.messages import BaseMessage\n",
    "from langgraph.graph import add_messages\n",
    "\n",
    "\n",
    "# Graph 에서 사용할 State 를 정의\n",
    "class HellogLangGraphState(TypedDict):\n",
    "    messages: Annotated[list[BaseMessage], add_messages]"
   ]
  },
  {
   "cell_type": "code",
   "execution_count": 4,
   "id": "6302520c0ebb6852",
   "metadata": {
    "ExecuteTime": {
     "end_time": "2025-09-19T12:46:28.885393Z",
     "start_time": "2025-09-19T12:46:28.883841Z"
    }
   },
   "outputs": [],
   "source": [
    "from langgraph.graph import StateGraph\n",
    "\n",
    "\n",
    "# 정의한 State 를 가질 Graph 생성자를 정의\n",
    "graph_builder = StateGraph(HellogLangGraphState)"
   ]
  },
  {
   "cell_type": "code",
   "execution_count": 5,
   "id": "fba7514acac506b8",
   "metadata": {
    "ExecuteTime": {
     "end_time": "2025-09-19T12:46:28.892080Z",
     "start_time": "2025-09-19T12:46:28.890499Z"
    }
   },
   "outputs": [],
   "source": [
    "# Node 로 만들어진 함수\n",
    "def generate(state: HellogLangGraphState) -> HellogLangGraphState:\n",
    "    messages = state[\"messages\"]\n",
    "    ai_message = llm.invoke(messages)\n",
    "    return {\"messages\": [ai_message]}"
   ]
  },
  {
   "cell_type": "code",
   "execution_count": 6,
   "id": "825fd381efe9e143",
   "metadata": {
    "ExecuteTime": {
     "end_time": "2025-09-19T12:46:28.895912Z",
     "start_time": "2025-09-19T12:46:28.894067Z"
    }
   },
   "outputs": [
    {
     "data": {
      "text/plain": [
       "<langgraph.graph.state.StateGraph at 0x105560140>"
      ]
     },
     "execution_count": 6,
     "metadata": {},
     "output_type": "execute_result"
    }
   ],
   "source": [
    "# 앞서 정의한 함수를 Node 로 추가\n",
    "graph_builder.add_node(\"generate\", generate)"
   ]
  },
  {
   "cell_type": "code",
   "execution_count": 7,
   "id": "c00792b21eea0499",
   "metadata": {
    "ExecuteTime": {
     "end_time": "2025-09-19T12:46:28.906124Z",
     "start_time": "2025-09-19T12:46:28.904150Z"
    }
   },
   "outputs": [
    {
     "data": {
      "text/plain": [
       "<langgraph.graph.state.StateGraph at 0x105560140>"
      ]
     },
     "execution_count": 7,
     "metadata": {},
     "output_type": "execute_result"
    }
   ],
   "source": [
    "from langgraph.graph import END, START\n",
    "\n",
    "\n",
    "# LangGraph 는 무.조.건. START 로 시작하고, END 로 끝나고 이 Node 가 기본으로 들어있음\n",
    "# 위에서 추가한 Node 와 START 와 END 를 연결!\n",
    "graph_builder.add_edge(START, \"generate\")\n",
    "graph_builder.add_edge(\"generate\", END)"
   ]
  },
  {
   "cell_type": "code",
   "execution_count": 8,
   "id": "e6bc33a7a7e49b4",
   "metadata": {
    "ExecuteTime": {
     "end_time": "2025-09-19T12:46:29.395004Z",
     "start_time": "2025-09-19T12:46:28.915255Z"
    }
   },
   "outputs": [
    {
     "data": {
      "image/png": "[encoded data removed]",
      "text/plain": [
       "<langgraph.graph.state.CompiledStateGraph object at 0x106447740>"
      ]
     },
     "execution_count": 8,
     "metadata": {},
     "output_type": "execute_result"
    }
   ],
   "source": [
    "# 최종 Graph 를 만들기!\n",
    "graph = graph_builder.compile()\n",
    "graph"
   ]
  },
  {
   "cell_type": "code",
   "execution_count": 9,
   "id": "b06dd83e0eccdb95",
   "metadata": {
    "ExecuteTime": {
     "end_time": "2025-09-19T12:47:00.932038Z",
     "start_time": "2025-09-19T12:46:29.418891Z"
    }
   },
   "outputs": [
    {
     "data": {
      "text/plain": [
       "{'messages': [HumanMessage(content='AI Agent 가 뭐야?', additional_kwargs={}, response_metadata={}, id='32cc911b-8b20-449b-b843-3377f49e49b4'),\n",
       "  AIMessage(content='### AI 에이전트란?  \\n\\n간단히 말하면 **“목표를 가지고 스스로 판단·행동하는 인공지능 시스템”** 입니다.  \\n다음과 같은 핵심 요소를 갖추고 있다고 볼 수 있습니다.\\n\\n| 핵심 구성요소 | 역할 |\\n|--------------|------|\\n| **센서 / 인식** | 외부 환경(데이터, 센서, 사용자 입력 등)을 감지합니다. |\\n| **추론·학습** | 수집된 정보를 바탕으로 패턴을 인식하거나, 과거 경험을 학습합니다. |\\n| **계획 / 의사결정** | 목표 달성을 위해 어떤 행동을 할지 결정합니다. |\\n| **액추에이터 / 실행** | 선택한 행동을 실제로 수행합니다. (API 호출, 로봇 움직임, UI 조작 등) |\\n| **피드백 루프** | 행동 결과를 다시 인식 단계로 전달해 지속적으로 개선합니다. |\\n\\n---\\n\\n## 1. AI 에이전트의 분류\\n\\n| 종류 | 특징 | 예시 |\\n|------|------|------|\\n| **반응형(reactive)** | 환경 변화에 즉시 반응; 복잡한 내부 모델이 없음 | 1세대 로봇, 간단한 챗봇 |\\n| **지능형( deliberative )** | 상태를 내부적으로 모델링하고 계획을 세워 행동 | 인공지능 비서, 자동 운전 소프트웨어 |\\n| **하이브리드** | 반응형과 지능형의 장점을 결합 | 현대 자동차의 운전 보조 시스템 |\\n| **멀티 에이전트** | 여러 에이전트가 협력·경쟁하며 문제를 해결 | 물류 로봇 집단, 대규모 시뮬레이션 |\\n\\n---\\n\\n## 2. AI 에이전트가 등장한 배경\\n\\n- **전통적 프로그램**은 *명시적 지시*에 따라 동작합니다.  \\n- **AI 에이전트**는 **목표 지향적**·**자율적**·**학습 가능한** 시스템으로, 복잡한 환경에서도 스스로 최적의 행동을 선택합니다.  \\n- 1950년대~60년대에 **인공지능 연구**에서 **“에이전트” 개념**이 등장했고, 이후 **멀티 에이전트 시스템**, **로봇공학**, **게임 AI** 등에서 핵심 개념이 되었습니다.\\n\\n---\\n\\n## 3. 실제 활용 사례\\n\\n| 분야 | 대표적 AI 에이전트 | 기능 |\\n|------|------------------|------|\\n| **가상 비서** | Siri, Alexa, Google Assistant | 음성 인식 → 대화 → API 호출 → 실행 |\\n| **챗봇** | 챗GPT 기반 고객 지원 | 자연어 이해 → 문답 생성 → 사용자 만족도 향상 |\\n| **자율주행** | Waymo, Tesla Autopilot | 센서 데이터 → 경로 계획 → 차량 제어 |\\n| **추천 시스템** | Amazon, Netflix | 사용자 행동 분석 → 개인 맞춤 콘텐츠 제안 |\\n| **게임 AI** | NPC 행동, 전략 수립 | 플레이어 행동 예측 → 전투 전략 결정 |\\n| **로보틱스** | 산업용 로봇, 물류 로봇 | 물품 인식 → 경로 탐색 → 물품 이동 |\\n\\n---\\n\\n## 4. 최신 트렌드: LLM 기반 AI 에이전트\\n\\n최근 대규모 언어 모델(LLM, 예: GPT‑4, LLaMA 등)을 활용해 **“행동·계획”을 자체적으로 수행**하는 에이전트가 등장했습니다.\\n\\n- **OpenAI Agent**: LLM이 명령을 받아, 필요한 API 호출(예: 검색, 계산) 후 결과를 다시 LLM에 투입해 목표를 달성.\\n- **RAG (Retrieval‑Augmented Generation)**: 외부 지식 베이스를 검색해 답변을 보강.\\n- **멀티 모달 에이전트**: 이미지, 텍스트, 사운드 등 다양한 입력을 동시에 처리.\\n\\n이러한 에이전트는 “스스로** 목표를 정의하고** 필요한 도구(API, 검색 엔진, 계산기 등)를 찾아 사용한다는 점이 특징입니다.  \\n\\n---\\n\\n## 5. AI 에이전트를 만들 때 고려해야 할 점\\n\\n1. **목표 정의**  \\n   - 명확하고 측정 가능한 목표를 설정해야 에이전트가 제대로 학습·작동합니다.\\n\\n2. **환경 모델링**  \\n   - 실제 환경(실제 센서, API, 데이터베이스)을 얼마나 정확히 모델링할지 결정.\\n\\n3. **보안·윤리**  \\n   - 개인정보 보호, 악의적 사용 방지, 투명성(설명가능성) 확보.\\n\\n4. **학습 데이터**  \\n   - 충분하고 다양하며 편향이 없는 데이터가 필요합니다.\\n\\n5. **성능 모니터링**  \\n   - 에이전트가 실제 환경에서 어떻게 동작하는지 지속적으로 모니터링하고 조정.\\n\\n---\\n\\n## 6. 마치며\\n\\n> **AI 에이전트**는 “목표를 갖고, 환경을 인식하며, 스스로 판단·행동하는 인공지능 시스템”입니다.  \\n> 기술의 진화와 함께 **LLM, 멀티 모달** 등 새로운 요소가 결합돼 복잡한 문제를 스스로 해결하는 지능형 에이전트가 등장하고 있습니다.  \\n> 앞으로는 일상 속에서 “가장 가까운 AI 파트너”처럼 인간과 협업하는 에이전트가 많아질 전망입니다.\\n\\n궁금한 부분이 있으면 언제든 물어보세요!', additional_kwargs={}, response_metadata={'model': 'gpt-oss:20b', 'created_at': '2025-09-19T12:47:00.926728Z', 'done': True, 'done_reason': 'stop', 'total_duration': 31504663917, 'load_duration': 103793167, 'prompt_eval_count': 73, 'prompt_eval_duration': 26270375, 'eval_count': 1766, 'eval_duration': 31374018334, 'model_name': 'gpt-oss:20b'}, id='run--740a34a0-baf0-48ba-890a-064c5d028d46-0', usage_metadata={'input_tokens': 73, 'output_tokens': 1766, 'total_tokens': 1839})]}"
      ]
     },
     "execution_count": 9,
     "metadata": {},
     "output_type": "execute_result"
    }
   ],
   "source": [
    "from langchain_core.messages import HumanMessage\n",
    "\n",
    "\n",
    "# LangChain 처럼 invoke 로 실행을 하지만, 우리가 정의한 State 로 값을 넣어주어야 함\n",
    "initial_state = HellogLangGraphState(messages=[HumanMessage(query)])\n",
    "graph.invoke(initial_state)"
   ]
  },
  {
   "cell_type": "code",
   "execution_count": null,
   "id": "fe34487ad24cc8dc",
   "metadata": {
    "ExecuteTime": {
     "end_time": "2025-09-19T12:47:00.969197Z",
     "start_time": "2025-09-19T12:47:00.967504Z"
    }
   },
   "outputs": [],
   "source": []
  }
 ],
 "metadata": {
  "kernelspec": {
   "display_name": "Python 3",
   "language": "python",
   "name": "python3"
  },
  "language_info": {
   "codemirror_mode": {
    "name": "ipython",
    "version": 2
   },
   "file_extension": ".py",
   "mimetype": "text/x-python",
   "name": "python",
   "nbconvert_exporter": "python",
   "pygments_lexer": "ipython2",
   "version": "2.7.6"
  }
 },
 "nbformat": 4,
 "nbformat_minor": 5
}

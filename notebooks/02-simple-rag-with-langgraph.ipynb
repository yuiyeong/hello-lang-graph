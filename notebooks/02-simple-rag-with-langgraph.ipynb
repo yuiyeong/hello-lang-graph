{
 "cells": [
  {
   "cell_type": "markdown",
   "id": "70b0e4cc6060de1b",
   "metadata": {},
   "source": [
    "## 1. Markdown 가져오기\n",
    "\n",
    "- \"unstructured[md]\" nltk 패키지를 설치함으로써 `langchain_community.document_loaders.UnstructuredMarkdownLoader` 사용"
   ]
  },
  {
   "cell_type": "code",
   "execution_count": 1,
   "id": "initial_id",
   "metadata": {
    "ExecuteTime": {
     "end_time": "2025-09-21T00:41:14.313545Z",
     "start_time": "2025-09-21T00:41:13.976340Z"
    },
    "collapsed": true
   },
   "outputs": [],
   "source": [
    "from pathlib import Path\n",
    "\n",
    "from langchain_community.document_loaders import UnstructuredMarkdownLoader\n",
    "\n",
    "\n",
    "DATA_DIR = Path(\"../data\")\n",
    "tax_law_md_file_path = DATA_DIR / \"income-tax-law-parsed-by-upstage.md\"\n",
    "loader = UnstructuredMarkdownLoader(tax_law_md_file_path)"
   ]
  },
  {
   "cell_type": "code",
   "execution_count": 2,
   "id": "c6f9d096a1bf4b53",
   "metadata": {
    "ExecuteTime": {
     "end_time": "2025-09-21T00:41:16.646161Z",
     "start_time": "2025-09-21T00:41:14.317847Z"
    }
   },
   "outputs": [
    {
     "name": "stdout",
     "output_type": "stream",
     "text": [
      "불러온 문서 개수: 1\n"
     ]
    }
   ],
   "source": [
    "docs = loader.load()\n",
    "print(\"불러온 문서 개수:\", len(docs))"
   ]
  },
  {
   "cell_type": "markdown",
   "id": "d8871fe046f39c89",
   "metadata": {},
   "source": [
    "## 2. Markdown 문서 나누기\n",
    "- `MarkdownTextSplitter` 를 사용해서 문서를 잘 나누도록 하기"
   ]
  },
  {
   "cell_type": "code",
   "execution_count": 3,
   "id": "aff7b42dda8303ca",
   "metadata": {
    "ExecuteTime": {
     "end_time": "2025-09-21T00:41:17.528474Z",
     "start_time": "2025-09-21T00:41:17.294818Z"
    }
   },
   "outputs": [
    {
     "name": "stdout",
     "output_type": "stream",
     "text": [
      "297\n"
     ]
    }
   ],
   "source": [
    "from langchain_text_splitters import MarkdownTextSplitter\n",
    "\n",
    "\n",
    "text_splitter = MarkdownTextSplitter(\n",
    "    chunk_size=1500,  # 한 청크의 최대 길이(문자 기준)\n",
    "    chunk_overlap=250,  # 청크 간 겹침(문자 기준)\n",
    "    add_start_index=True,  # 원문 내 시작 인덱스 메타데이터 추가\n",
    ")\n",
    "split_docs = loader.load_and_split(text_splitter)\n",
    "print(len(split_docs))"
   ]
  },
  {
   "cell_type": "markdown",
   "id": "dab1e1b5893d46c6",
   "metadata": {},
   "source": "## 3. VectorDB 에 나눈 문서 저장하기"
  },
  {
   "cell_type": "markdown",
   "id": "bbcd2392455a553e",
   "metadata": {},
   "source": [
    "### 3.1. Embeddings 로 bge-m3 모델을 사용한다.\n",
    "\n",
    "BGE-M3는 XLM-RoBERTa 아키텍처를 기반으로 하며, 다기능성(Multi-Functionality), 다언어성(Multi-Linguality), 다중 세분성(Multi-Granularity) 측면에서 뛰어난 다재다능함으로 구별된다.\n",
    "\n",
    "- 다기능성(Multi-Functionality): 임베딩 모델의 세 가지 일반적인 검색 기능인 밀집 검색(dense retrieval), 다중 벡터 검색(multi-vector retrieval), 희소 검색(sparse retrieval)을 동시에 수행할 수 있다.\n",
    "    - 이것 때문에 VectorDB 를 만들 때 Embeddings 로 사용하면 좋다.\n",
    "- 다언어성(Multi-Linguality): 100개 이상의 언어를 지원할 수 있다.\n",
    "- 다중 세분성(Multi-Granularity): 짧은 문장부터 최대 8192개 토큰의 긴 문서까지 다양한 세분성의 입력을 처리할 수 있다."
   ]
  },
  {
   "cell_type": "code",
   "execution_count": 4,
   "id": "b07ec283c1259e7c",
   "metadata": {
    "ExecuteTime": {
     "end_time": "2025-09-21T00:41:18.734928Z",
     "start_time": "2025-09-21T00:41:17.546665Z"
    }
   },
   "outputs": [],
   "source": [
    "from langchain_ollama import OllamaEmbeddings\n",
    "\n",
    "\n",
    "embedding_function = OllamaEmbeddings(model=\"bge-m3:567m\")"
   ]
  },
  {
   "cell_type": "markdown",
   "id": "471d23ad43578716",
   "metadata": {},
   "source": "### 3.2. chroma 를 이용해서 VectorDB 구축"
  },
  {
   "cell_type": "code",
   "execution_count": 5,
   "id": "8fc1009121af8491",
   "metadata": {
    "ExecuteTime": {
     "end_time": "2025-09-21T00:41:20.137507Z",
     "start_time": "2025-09-21T00:41:18.749151Z"
    }
   },
   "outputs": [],
   "source": [
    "from langchain_chroma import Chroma\n",
    "\n",
    "\n",
    "chroma_persistent_dir = DATA_DIR / \"chroma_db\"\n",
    "vector_store = Chroma(\n",
    "    embedding_function=embedding_function,\n",
    "    persist_directory=chroma_persistent_dir,\n",
    "    collection_name=\"korean_income_tax_law\",\n",
    ")"
   ]
  },
  {
   "cell_type": "code",
   "execution_count": 16,
   "id": "1a526c4369dfb08b",
   "metadata": {
    "ExecuteTime": {
     "end_time": "2025-09-21T00:44:17.224597Z",
     "start_time": "2025-09-21T00:44:17.223110Z"
    }
   },
   "outputs": [],
   "source": [
    "# bge-m3 를 사용했을 때, 총 297개의 문서를 저장하는데 약 32초가 걸렸다.\n",
    "# vector_store.add_documents(split_docs)\n",
    "# 처음 생성 후에는 다시 생성할 필요없으므로 주석 처리"
   ]
  },
  {
   "cell_type": "code",
   "execution_count": 7,
   "id": "9067fa64416f8e81",
   "metadata": {
    "ExecuteTime": {
     "end_time": "2025-09-21T00:41:52.598652Z",
     "start_time": "2025-09-21T00:41:52.597106Z"
    }
   },
   "outputs": [],
   "source": [
    "retriever = vector_store.as_retriever(kwargs={\"k\": 3})"
   ]
  },
  {
   "cell_type": "markdown",
   "id": "55360694dc27db7e",
   "metadata": {},
   "source": [
    "## 4. Simple RAG LangGraph 만들기\n",
    "\n",
    "- `retrieve` 노드와 `generate` 노드가 있어야 한다.\n",
    "    - `retrieve`: vector db 에서, 사용자의 질문과 관련된 정보를 가져오는 일을 하는 Node\n",
    "    - `generate`: 사용자의 질문과 검색해온 정보를 가지고 답변을 생성하는 Node"
   ]
  },
  {
   "cell_type": "markdown",
   "id": "98b3d0b445a99587",
   "metadata": {},
   "source": "### 4.1 Graph 의 State 만들기"
  },
  {
   "cell_type": "code",
   "execution_count": 8,
   "id": "f6f45542435abb52",
   "metadata": {
    "ExecuteTime": {
     "end_time": "2025-09-21T00:41:52.603499Z",
     "start_time": "2025-09-21T00:41:52.601901Z"
    }
   },
   "outputs": [],
   "source": [
    "from typing import TypedDict\n",
    "\n",
    "from langchain_core.documents import Document\n",
    "\n",
    "\n",
    "class AgentState(TypedDict):\n",
    "    query: str  # 사용자의 질문\n",
    "    context: list[Document]  # 질문으로 검색한 문서\n",
    "    answer: str  # 문서 + 질문에 대한 llm 의 답변"
   ]
  },
  {
   "cell_type": "markdown",
   "id": "47cee6b2cb0a5647",
   "metadata": {},
   "source": "### 4.2. State 로 GraphBuilder 만들기"
  },
  {
   "cell_type": "code",
   "execution_count": 9,
   "id": "a4923014bee2a238",
   "metadata": {
    "ExecuteTime": {
     "end_time": "2025-09-21T00:41:52.701124Z",
     "start_time": "2025-09-21T00:41:52.608023Z"
    }
   },
   "outputs": [],
   "source": [
    "from langgraph.graph import StateGraph\n",
    "\n",
    "\n",
    "graph_builder = StateGraph(AgentState)"
   ]
  },
  {
   "cell_type": "markdown",
   "id": "b1f946d29c701a57",
   "metadata": {},
   "source": "### 4.3. retrieve Node 만들기"
  },
  {
   "cell_type": "code",
   "execution_count": 10,
   "id": "3300bf9f023419e6",
   "metadata": {
    "ExecuteTime": {
     "end_time": "2025-09-21T00:41:52.706264Z",
     "start_time": "2025-09-21T00:41:52.703923Z"
    }
   },
   "outputs": [
    {
     "data": {
      "text/plain": [
       "<langgraph.graph.state.StateGraph at 0x14f2c99d0>"
      ]
     },
     "execution_count": 10,
     "metadata": {},
     "output_type": "execute_result"
    }
   ],
   "source": [
    "def retrieve(state: AgentState) -> AgentState:\n",
    "    query = state[\"query\"]\n",
    "    retrieved_docs = retriever.invoke(query)\n",
    "    return {\"context\": retrieved_docs}\n",
    "\n",
    "\n",
    "graph_builder.add_node(\"retrieve\", retrieve)"
   ]
  },
  {
   "cell_type": "markdown",
   "id": "8c6cefe2ad2f3b4",
   "metadata": {},
   "source": "### 4.4. generate Node 만들기"
  },
  {
   "cell_type": "code",
   "execution_count": 11,
   "id": "1ab9a5d2747457",
   "metadata": {
    "ExecuteTime": {
     "end_time": "2025-09-21T00:41:52.723965Z",
     "start_time": "2025-09-21T00:41:52.712250Z"
    }
   },
   "outputs": [],
   "source": [
    "from langchain_ollama import ChatOllama\n",
    "\n",
    "\n",
    "llm = ChatOllama(model=\"gpt-oss:20b\")"
   ]
  },
  {
   "cell_type": "code",
   "execution_count": 12,
   "id": "34dd2ad390ce77ca",
   "metadata": {
    "ExecuteTime": {
     "end_time": "2025-09-21T00:41:52.751352Z",
     "start_time": "2025-09-21T00:41:52.726580Z"
    }
   },
   "outputs": [
    {
     "data": {
      "text/plain": [
       "<langgraph.graph.state.StateGraph at 0x14f2c99d0>"
      ]
     },
     "execution_count": 12,
     "metadata": {},
     "output_type": "execute_result"
    }
   ],
   "source": [
    "from langchain_core.output_parsers import StrOutputParser\n",
    "from langchain_core.prompts import ChatPromptTemplate\n",
    "\n",
    "\n",
    "system_prompt = \"\"\"역할: 당신은 한국의 소득세법 전문가입니다.\n",
    "---\n",
    "지시: 다음 정보를 바탕으로 사용자의 질문에 답하세요.\n",
    "---\n",
    "정보: {context}\n",
    "---\n",
    "사용자 질문: {query}\n",
    "\"\"\"\n",
    "\n",
    "\n",
    "def generate(state: AgentState) -> AgentState:\n",
    "    prompt = ChatPromptTemplate.from_messages(\n",
    "        [\n",
    "            (\"system\", system_prompt),\n",
    "        ]\n",
    "    )\n",
    "    rag_chain = prompt | llm | StrOutputParser()\n",
    "    answer = rag_chain.invoke(\n",
    "        {\n",
    "            \"query\": state[\"query\"],\n",
    "            \"context\": state[\"context\"],\n",
    "        }\n",
    "    )\n",
    "    return {\"answer\": answer}\n",
    "\n",
    "\n",
    "graph_builder.add_node(\"generate\", generate)"
   ]
  },
  {
   "cell_type": "markdown",
   "id": "27ea4e710bfee95a",
   "metadata": {},
   "source": "### 4.5. Edge 로 연결해서 그래프 완성하기"
  },
  {
   "cell_type": "code",
   "execution_count": null,
   "id": "47096b90fb920801",
   "metadata": {},
   "outputs": [],
   "source": [
    "from langgraph.graph import END, START\n",
    "\n",
    "\n",
    "graph_builder.add_edge(START, \"retrieve\")\n",
    "graph_builder.add_edge(\"retrieve\", \"generate\")\n",
    "graph_builder.add_edge(\"generate\", END)\n",
    "graph = graph_builder.compile()\n",
    "\n",
    "# 이전에 graph 를 그리는 방법\n",
    "# from IPython.display import Image, display\n",
    "#\n",
    "# display(Image(graph.get_graph().draw_mermaid_png()))\n",
    "\n",
    "graph"
   ]
  },
  {
   "cell_type": "code",
   "execution_count": 14,
   "id": "ad1b5a08d839f299",
   "metadata": {
    "ExecuteTime": {
     "end_time": "2025-09-21T00:42:25.183763Z",
     "start_time": "2025-09-21T00:41:54.250635Z"
    }
   },
   "outputs": [
    {
     "data": {
      "text/plain": [
       "{'query': '연봉 5천만원인 직장인의 소득세는 얼마입니까?',\n",
       " 'context': [Document(id='22ed77a4-2054-46d1-a6d6-fcc2a995584f', metadata={'source': '../data/income-tax-law-parsed-by-upstage.md', 'start_index': 21510}, page_content='과세기간의 총수입금액에서 이에 사용된 필요경비를 공제한 금액으로 하며, 필요경비가 총 수입금액을 초과하는 경우 그 초과하는 금액을 \"결손금\"이라 한다. ③ 제1항 각 호에 따른 사업의 범위에 관하여는 이 법에 특별한 규정이 있는 경우 외에는 「통계법」 제22조에 따라 통계청장이 고시하는 한국표준산업분류에 따르고, 그 밖의 사업소득의 범위에 관하여 필요한 사항은 대통령령으로 정한다.# [전문개정 2009. 12. 31.]제20조(근로소득) ① 근로소득은 해당 과세기간에 발생한 다음 각 호의 소득으로 한다. <개정 2016. 12. 20., 2024. 12. 31.>- 1. 근로를 제공함으로써 받는 봉급 · 급료 · 보수 · 세비 · 임금 · 상여 · 수당과 이와 유사한 성질의 급여 - 2. 법인의 주주총회 · 사원총회 또는 이에 준하는 의결기관의 결의에 따라 상여로 받는 소득 - 3. 「법인세법」에 따라 상여로 처분된 금액 - 4. 퇴직함으로써 받는 소득으로서 퇴직소득에 속하지 아니하는 소득 - 5. 종업원등 또는 대학의 교직원이 지급받는 직무발명보상금(제21조제1항제22호의2에 따른 직무발명보상금은 제 - 외한다) - 6. 사업자나 법인이 생산 · 공급하는 재화 또는 용역을 그 사업자나 법인(「독점규제 및 공정거래에 관한 법률」 에 따 - 른 계열회사를 포함한다)의 사업장에 종사하는 임원등에게 대통령령으로 정하는 바에 따라 시가보다 낮은 가격 - 으로 제공하거나 구입할 수 있도록 지원함으로써 해당 임원등이 얻는 이익 - ② 근로소득금액은 제1항 각 호의 소득의 금액의 합계액(비과세소득의 금액은 제외하며, 이하 \"총급여액\"이라 한다 - )에서 제47조에 따른 근로소득공제를 적용한 금액으로 한다. - ③ 근로소득의 범위에 관하여 필요한 사항은 대통령령으로 정한다. - [전문개정 2009. 12. 31.]'),\n",
       "  Document(id='9a16331d-6530-4ec9-b803-81d2330e5ec0', metadata={'source': '../data/income-tax-law-parsed-by-upstage.md', 'start_index': 221395}, page_content='지급) 국세청장은 제150조에 따라 근로소득에 대한 소득세를 징수하여 납부한 자에게 대통령령으로 정하는 바에 따라 교부금을 지급하여야 한다. <개정 2024. 12. 31.>[전문개정 2009. 12. 31.]제170조(질문 · 조사) ① 소득세에 관한 사무에 종사하는 공무원은 그 직무 수행을 위하여 필요한 경우에는 다음 각 호 의 어느 하나에 해당하는 자에 대하여 질문을 하거나 해당 장부 · 서류 또는 그 밖의 물건을 조사하거나 그 제출을 명할 수 있다. 다만, 제21조제1항제26호에 따른 종교인소득(제21조제4항에 해당하는 경우를 포함한다)에 대해서는 종교단체의 장부 · 서류 또는 그 밖의 물건 중에서 종교인소득과 관련된 부분에 한정하여 조사하거나 그 제출을 명 할 수 있다. <개정 2012. 1. 1., 2015. 12. 15., 2018. 12. 31., 2020. 6. 9., 2020. 12. 29.>- 1. 납세의무자 또는 납세의무가 있다고 인정되는 자 - 2. 원천징수의무자 - 3. 납세조합 - 4. 지급명세서 제출의무자 - 5. 제156조 및 제156조의3부터 제156조의6까지의 규정에 따른 원천징수의무자 - 6. 「국세기본법」 제82조에 따른 납세관리인 - 7. 제1호에서 규정하는 자와 거래가 있다고 인정되는 자 - 8. 납세의무자가 조직한 동업조합과 이에 준하는 단체 - 9. 기부금영수증을 발급하는 자 - ② 제1항을 적용하는 경우 소득세에 관한 사무에 종사하는 공무원은 직무를 위하여 필요한 범위 외에 다른 목적 등 - 을 위하여 그 권한을 남용해서는 아니 된다.<신설 2018. 12. 31., 2020. 6. 9.>'),\n",
       "  Document(id='818b6b72-0b2c-464e-b603-30f4a56a2920', metadata={'start_index': 26270, 'source': '../data/income-tax-law-parsed-by-upstage.md'}, page_content='제외한다)은 기타소득으로 한다.<신설 2020. 12. 29.>③ 기타소득금액은 해당 과세기간의 총수입금액에서 이에 사용된 필요경비를 공제한 금액으로 한다.<개정 2020.12. 29.>법제처14국가법령정보센터소득세법- ④ 제1항제26호에 따른 종교인소득에 대하여 제20조제1항에 따른 근로소득으로 원천징수하거나 과세표준확정신고 - 를 한 경우에는 해당 소득을 근로소득으로 본다.<신설 2015. 12. 15., 2020. 12. 29.> - ⑤ 기타소득의 구체적 범위 및 계산방법과 그 밖에 필요한 사항은 대통령령으로 정한다.<개정 2015. 12. 15., 2020. - 12. 29.> - [전문개정 2009. 12. 31.] 제22조(퇴직소득) ① 퇴직소득은 해당 과세기간에 발생한 다음 각 호의 소득으로 한다. <개정 2013. 1. 1.>1. 공적연금 관련법에 따라 받는 일시금- 2. 사용자 부담금을 기초로 하여 현실적인 퇴직을 원인으로 지급받는 소득 - 3. 그 밖에 제1호 및 제2호와 유사한 소득으로서 대통령령으로 정하는 소득 - ② 제1항제1호에 따른 퇴직소득은 2002년 1월 1일 이후에 납입된 연금 기여금 및 사용자 부담금을 기초로 하거나 - 2002년 1월 1일 이후 근로의 제공을 기초로 하여 받은 일시금으로 한다.<개정 2013. 1. 1.> - ③퇴직소득금액은 제1항 각 호에 따른 소득의 금액의 합계액(비과세소득의 금액은 제외한다)으로 한다. 다만, 대통 - 령령으로 정하는 임원의 퇴직소득금액(제1항제1호의 금액은 제외하며, 2011년 12월 31일에 퇴직하였다고 가정할 - 때 지급받을 대통령령으로 정하는 퇴직소득금액이 있는 경우에는 그 금액을 뺀 금액을 말한다)이 다음 계산식에 따 - 라 계산한 금액을 초과하는 경우에는 제1항에도 불구하고 그 초과하는 금액은 근로소득으로 본다.<개정 2012. 1. 1, 2013. 1. 1, 2014. 12. 23., 2019. 12. 31.>'),\n",
       "  Document(id='1946df21-5f45-4275-9255-42db0f2ae0ee', metadata={'start_index': 47357, 'source': '../data/income-tax-law-parsed-by-upstage.md'}, page_content='2. 환산급여에 따라 정한 다음의 금액| 환산급여 | 공 제 액 |\\n\\n| --- | --- | | B백만원 이하 | 환산급여의 100퍼 센트 | | B 백만원 초과 7천만원 이하 | B백만원 +(B백만원 초과분의 6D퍼센트) | | 7천만원 초과 1억원 이하 | 4천520 만원 +(7천만원 초과분의 55퍼센트) | | 1 억원 초과 3억원 이하 | 6천1 70만원 +(1 억원 초과분의 45퍼센트) | | 3 억원 초과 | 1 억5천170만원 +(3억원 초과분의 35퍼센트) | ② 해당 과세기간의 퇴직소득금액이 제1항제1호에 따른 공제금액에 미달하는 경우에는 그 퇴직소득금액을 공제액 으로 한다.<개정 2014. 12. 23.>- ③ 제1항과 제2항에 따른 공제를 \"퇴직소득공제\"라 한다. - ④ 퇴직소득공제의 계산 방법에 관하여 필요한 사항은 대통령령으로 정한다.<개정 2013. 1. 1.> - ⑤ 삭제 <2013. 1. 1.> - [전문개정 2009. 12. 31.]\\n\\n제49조 삭제 <2006. 12. 30.>법제처26국가법령정보센터소득세법# 제6관 종합소득공제 <개정 2009. 12. 31.>제50조(기본공제) ① 종합소득이 있는 거주자(자연인만 해당한다)에 대해서는 다음 각 호의 어느 하나에 해당하는 사람')],\n",
       " 'answer': '**연봉 5천\\u202f만원(=\\u202f50\\u202f000\\u202f000\\u202f원) 직장인의 소득세 개략 계산**  \\n(2024‑2025 기준 한국 소득세율 및 기본 공제 적용)\\n\\n| 구분 | 계산 | 결과 |\\n|------|------|------|\\n| **연봉** | 50\\u202f000\\u202f000\\u202f원 |  |\\n| **근로소득 공제** | 70\\u202f% × 8\\u202f400\\u202f000\\u202f원  = 5\\u202f880\\u202f000\\u202f원  <br>77\\u202f% × (30\\u202f400\\u202f000\\u202f원 – 8\\u202f400\\u202f000\\u202f원)=16\\u202f940\\u202f000\\u202f원  <br>85\\u202f% × (50\\u202f000\\u202f000\\u202f원 – 30\\u202f400\\u202f000\\u202f원)=16\\u202f660\\u202f000\\u202f원 | **39\\u202f480\\u202f000\\u202f원** |\\n| **기본공제(근로자 전용)** | 1\\u202f500\\u202f000\\u202f원 |  |\\n| **합계 공제** | 39\\u202f480\\u202f000\\u202f원 + 1\\u202f500\\u202f000\\u202f원 = 40\\u202f980\\u202f000\\u202f원 |  |\\n| **과세표준(종합소득세용)** | 50\\u202f000\\u202f000\\u202f원 – 40\\u202f980\\u202f000\\u202f원 = 9\\u202f020\\u202f000\\u202f원 |  |\\n| **소득세** | 9\\u202f020\\u202f000\\u202f원 × 6\\u202f% (최저 세율) | **≈\\u202f541\\u202f200\\u202f원** |\\n\\n> **정리**  \\n> - 근로소득에 대한 공제 계산 방식(70/77/85%)에 따라 공제액이 39,480만 원이 됩니다.  \\n> - 기본공제(근로자 전용) 1,500만 원을 더하면 총 40,980만 원이 공제됩니다.  \\n> - 50만 원의 연봉에서 공제 후 남는 과세표준은 약 902만 원이며, 6\\u202f% 세율이 적용되어 대략 54만 원의 소득세가 부과됩니다.  \\n\\n> **주의**  \\n> 1. 실제 납부 금액은 **기본공제(450\\u202f000\\u202f원)**, **주택자금 공제**, **기부금 공제** 등 기타 세액공제 항목에 따라 달라질 수 있습니다.  \\n> 2. **국민연금·국민건강보험·고용보험** 등 사회보험료는 소득세와 별도로 부과됩니다.  \\n> 3. 이 계산은 단순한 예시이며, 직장의 급여공제 항목(예: 차용금, 비과세 급여 등) 여부에 따라 변동될 수 있습니다.\\n\\n필요하시면 실제 급여 명세서와 공제 항목을 알려 주시면 보다 정확한 계산을 도와드릴 수 있습니다.'}"
      ]
     },
     "execution_count": 14,
     "metadata": {},
     "output_type": "execute_result"
    }
   ],
   "source": [
    "initial_state = {\"query\": \"연봉 5천만원인 직장인의 소득세는 얼마입니까?\"}\n",
    "graph.invoke(initial_state)"
   ]
  },
  {
   "cell_type": "markdown",
   "id": "b652297a48ee48cf",
   "metadata": {},
   "source": "### 4.6. `add_sequence` 를 사용해보기"
  },
  {
   "cell_type": "code",
   "execution_count": null,
   "id": "c91d7ff7612a8133",
   "metadata": {},
   "outputs": [],
   "source": [
    "# add_sequence 를 사용해서 아래와 같이 표현할 수도 있음\n",
    "seq_graph_builder = StateGraph(AgentState).add_sequence([retrieve, generate])\n",
    "seq_graph_builder.add_edge(START, \"retrieve\")\n",
    "seq_graph_builder.add_edge(\"generate\", END)\n",
    "seq_graph_builder.compile()"
   ]
  },
  {
   "cell_type": "markdown",
   "id": "50129928f7a56431",
   "metadata": {
    "ExecuteTime": {
     "end_time": "2025-09-21T00:21:55.709764Z",
     "start_time": "2025-09-21T00:21:55.708555Z"
    }
   },
   "source": "###"
  }
 ],
 "metadata": {
  "kernelspec": {
   "display_name": "Python 3",
   "language": "python",
   "name": "python3"
  },
  "language_info": {
   "codemirror_mode": {
    "name": "ipython",
    "version": 2
   },
   "file_extension": ".py",
   "mimetype": "text/x-python",
   "name": "python",
   "nbconvert_exporter": "python",
   "pygments_lexer": "ipython2",
   "version": "2.7.6"
  }
 },
 "nbformat": 4,
 "nbformat_minor": 5
}

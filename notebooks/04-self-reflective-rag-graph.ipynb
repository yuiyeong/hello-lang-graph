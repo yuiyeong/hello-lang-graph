{
 "cells": [
  {
   "cell_type": "markdown",
   "id": "bfe1a0d65a02caf9",
   "metadata": {
    "collapsed": true
   },
   "source": [
    "# Self-Reflective RAG Agent\n",
    "\n",
    "![Self-Reflective RAG](https://blog.langchain.com/content/images/size/w1000/2024/02/image-6.png)\n",
    "\n",
    "- [LangChain 문서](https://blog.langchain.com/agentic-rag-with-langgraph/)\n",
    "- LLM 의 답변을 LLM 이 다시 검증하는 방식\n",
    "- 여기서는 `ollama` 를 사용함\n",
    "    - embedding model: `bge-m3:567m`\n",
    "    - llm model: `gpt-oss:120b-cloud`"
   ]
  },
  {
   "cell_type": "markdown",
   "id": "ba9f44854cb4562c",
   "metadata": {},
   "source": [
    "## 0. Helper 함수\n",
    "\n",
    "- jupyter notebook 에서 graph 보여주는 함수"
   ]
  },
  {
   "cell_type": "code",
   "execution_count": 1,
   "id": "3287345c9c159f0d",
   "metadata": {
    "ExecuteTime": {
     "end_time": "2025-09-24T08:31:53.888422Z",
     "start_time": "2025-09-24T08:31:53.656665Z"
    }
   },
   "outputs": [],
   "source": [
    "import uuid\n",
    "\n",
    "from IPython.display import HTML\n",
    "from langchain_core.runnables.graph import Graph\n",
    "\n",
    "\n",
    "def draw_mermaid_with_html(g: Graph):\n",
    "    mermaid_code = g.draw_mermaid()\n",
    "\n",
    "    container_id = f\"mermaid-container-{uuid.uuid4().hex[:8]}\"\n",
    "\n",
    "    html = f\"\"\"\n",
    "    <div id=\"{container_id}\"></div>\n",
    "\n",
    "    <script type=\"module\">\n",
    "        import mermaid from 'https://cdn.jsdelivr.net/npm/mermaid@10/dist/mermaid.esm.min.mjs';\n",
    "\n",
    "        mermaid.initialize({{\n",
    "            startOnLoad: false,\n",
    "            theme: 'default',\n",
    "            securityLevel: 'loose'\n",
    "        }});\n",
    "\n",
    "        const graphDefinition = `{mermaid_code}`;\n",
    "        const container = document.getElementById('{container_id}');\n",
    "\n",
    "        try {{\n",
    "            const {{ svg }} = await mermaid.render('graphDiv-' + Date.now(), graphDefinition);\n",
    "            container.innerHTML = svg;\n",
    "        }} catch (error) {{\n",
    "            container.innerHTML = '<pre>' + error + '</pre>';\n",
    "        }}\n",
    "    </script>\n",
    "    \"\"\"\n",
    "\n",
    "    display(HTML(html))"
   ]
  },
  {
   "cell_type": "markdown",
   "id": "ddff4d7427b1cd3f",
   "metadata": {},
   "source": "## 1. llm 및 retriever 정의"
  },
  {
   "cell_type": "code",
   "execution_count": 2,
   "id": "65e1b6438fb336aa",
   "metadata": {
    "ExecuteTime": {
     "end_time": "2025-09-24T08:31:56.396276Z",
     "start_time": "2025-09-24T08:31:53.891226Z"
    }
   },
   "outputs": [],
   "source": [
    "from pathlib import Path\n",
    "\n",
    "from langchain_chroma import Chroma\n",
    "from langchain_ollama import ChatOllama, OllamaEmbeddings\n",
    "\n",
    "\n",
    "DATA_DIR = Path(\"../data\")\n",
    "\n",
    "MODEL_EMBEDDINGS = \"bge-m3:567m\"\n",
    "MODEL_LLM = \"gpt-oss:120b-cloud\"\n",
    "\n",
    "VECTOR_DB_PERSIST_DIR = DATA_DIR / \"chroma_db\"\n",
    "VECTOR_DB_COLLECTION_NAME = \"korean_income_tax_law\"\n",
    "\n",
    "embedding_function = OllamaEmbeddings(model=MODEL_EMBEDDINGS)\n",
    "\n",
    "vector_store = Chroma(\n",
    "    persist_directory=VECTOR_DB_PERSIST_DIR,\n",
    "    embedding_function=embedding_function,\n",
    "    collection_name=VECTOR_DB_COLLECTION_NAME,\n",
    ")\n",
    "\n",
    "income_tax_law_retriever = vector_store.as_retriever(kwargs={\"k\": 1})  # 검색 결과는 1개만\n",
    "\n",
    "llm = ChatOllama(model=MODEL_LLM)"
   ]
  },
  {
   "cell_type": "markdown",
   "id": "9752ace8c6889332",
   "metadata": {},
   "source": "## 2. State 및 Builder 만들기"
  },
  {
   "cell_type": "code",
   "execution_count": 3,
   "id": "eda75827f8f1b96e",
   "metadata": {
    "ExecuteTime": {
     "end_time": "2025-09-24T08:31:56.444790Z",
     "start_time": "2025-09-24T08:31:56.425Z"
    }
   },
   "outputs": [],
   "source": [
    "from typing import TypedDict\n",
    "\n",
    "from langchain_core.documents import Document\n",
    "from langgraph.graph import StateGraph\n",
    "\n",
    "\n",
    "class AgentState(TypedDict):\n",
    "    query: str\n",
    "    context: list[Document]\n",
    "    answer: str\n",
    "\n",
    "\n",
    "graph_builder = StateGraph(AgentState)"
   ]
  },
  {
   "cell_type": "markdown",
   "id": "9e0e21d9dc10ad9",
   "metadata": {},
   "source": "## 3. Node 용 함수 만들기"
  },
  {
   "cell_type": "code",
   "execution_count": 4,
   "id": "8549f6affc7c8989",
   "metadata": {
    "ExecuteTime": {
     "end_time": "2025-09-24T08:31:56.453604Z",
     "start_time": "2025-09-24T08:31:56.447432Z"
    }
   },
   "outputs": [],
   "source": [
    "from typing import Literal\n",
    "\n",
    "from langchain_core.output_parsers import StrOutputParser\n",
    "from langchain_core.prompts import PromptTemplate"
   ]
  },
  {
   "cell_type": "code",
   "execution_count": 5,
   "id": "58741ac1938a7df",
   "metadata": {
    "ExecuteTime": {
     "end_time": "2025-09-24T08:31:56.776408Z",
     "start_time": "2025-09-24T08:31:56.455710Z"
    }
   },
   "outputs": [
    {
     "data": {
      "text/plain": [
       "{'context': [Document(id='cdbd2f99-818e-4bf0-a5b7-a31e94687d99', metadata={'start_index': 85516, 'source': '../data/income-tax-law-parsed-by-upstage.md'}, page_content='제1항에 따른 해당 거주자의 보유기간의 이자등 상당액에 대한 세액으로 한정한다)5. 제150조에 따른 납세조합의 징수세액과 그 공제액'),\n",
       "  Document(id='22ed77a4-2054-46d1-a6d6-fcc2a995584f', metadata={'source': '../data/income-tax-law-parsed-by-upstage.md', 'start_index': 21510}, page_content='과세기간의 총수입금액에서 이에 사용된 필요경비를 공제한 금액으로 하며, 필요경비가 총 수입금액을 초과하는 경우 그 초과하는 금액을 \"결손금\"이라 한다. ③ 제1항 각 호에 따른 사업의 범위에 관하여는 이 법에 특별한 규정이 있는 경우 외에는 「통계법」 제22조에 따라 통계청장이 고시하는 한국표준산업분류에 따르고, 그 밖의 사업소득의 범위에 관하여 필요한 사항은 대통령령으로 정한다.# [전문개정 2009. 12. 31.]제20조(근로소득) ① 근로소득은 해당 과세기간에 발생한 다음 각 호의 소득으로 한다. <개정 2016. 12. 20., 2024. 12. 31.>- 1. 근로를 제공함으로써 받는 봉급 · 급료 · 보수 · 세비 · 임금 · 상여 · 수당과 이와 유사한 성질의 급여 - 2. 법인의 주주총회 · 사원총회 또는 이에 준하는 의결기관의 결의에 따라 상여로 받는 소득 - 3. 「법인세법」에 따라 상여로 처분된 금액 - 4. 퇴직함으로써 받는 소득으로서 퇴직소득에 속하지 아니하는 소득 - 5. 종업원등 또는 대학의 교직원이 지급받는 직무발명보상금(제21조제1항제22호의2에 따른 직무발명보상금은 제 - 외한다) - 6. 사업자나 법인이 생산 · 공급하는 재화 또는 용역을 그 사업자나 법인(「독점규제 및 공정거래에 관한 법률」 에 따 - 른 계열회사를 포함한다)의 사업장에 종사하는 임원등에게 대통령령으로 정하는 바에 따라 시가보다 낮은 가격 - 으로 제공하거나 구입할 수 있도록 지원함으로써 해당 임원등이 얻는 이익 - ② 근로소득금액은 제1항 각 호의 소득의 금액의 합계액(비과세소득의 금액은 제외하며, 이하 \"총급여액\"이라 한다 - )에서 제47조에 따른 근로소득공제를 적용한 금액으로 한다. - ③ 근로소득의 범위에 관하여 필요한 사항은 대통령령으로 정한다. - [전문개정 2009. 12. 31.]'),\n",
       "  Document(id='95887108-c695-4de6-9f69-b3d2445ec2a2', metadata={'start_index': 236187, 'source': '../data/income-tax-law-parsed-by-upstage.md'}, page_content='적용하지 아니한다.# 제8조 및 제9조 생략제10조 (중소기업출자금등에 대한 세무조사의 특례등) ①소득세법 제1조의 규정에 의한 거주자가 대통령령이 정하는'),\n",
       "  Document(id='9a16331d-6530-4ec9-b803-81d2330e5ec0', metadata={'start_index': 221395, 'source': '../data/income-tax-law-parsed-by-upstage.md'}, page_content='지급) 국세청장은 제150조에 따라 근로소득에 대한 소득세를 징수하여 납부한 자에게 대통령령으로 정하는 바에 따라 교부금을 지급하여야 한다. <개정 2024. 12. 31.>[전문개정 2009. 12. 31.]제170조(질문 · 조사) ① 소득세에 관한 사무에 종사하는 공무원은 그 직무 수행을 위하여 필요한 경우에는 다음 각 호 의 어느 하나에 해당하는 자에 대하여 질문을 하거나 해당 장부 · 서류 또는 그 밖의 물건을 조사하거나 그 제출을 명할 수 있다. 다만, 제21조제1항제26호에 따른 종교인소득(제21조제4항에 해당하는 경우를 포함한다)에 대해서는 종교단체의 장부 · 서류 또는 그 밖의 물건 중에서 종교인소득과 관련된 부분에 한정하여 조사하거나 그 제출을 명 할 수 있다. <개정 2012. 1. 1., 2015. 12. 15., 2018. 12. 31., 2020. 6. 9., 2020. 12. 29.>- 1. 납세의무자 또는 납세의무가 있다고 인정되는 자 - 2. 원천징수의무자 - 3. 납세조합 - 4. 지급명세서 제출의무자 - 5. 제156조 및 제156조의3부터 제156조의6까지의 규정에 따른 원천징수의무자 - 6. 「국세기본법」 제82조에 따른 납세관리인 - 7. 제1호에서 규정하는 자와 거래가 있다고 인정되는 자 - 8. 납세의무자가 조직한 동업조합과 이에 준하는 단체 - 9. 기부금영수증을 발급하는 자 - ② 제1항을 적용하는 경우 소득세에 관한 사무에 종사하는 공무원은 직무를 위하여 필요한 범위 외에 다른 목적 등 - 을 위하여 그 권한을 남용해서는 아니 된다.<신설 2018. 12. 31., 2020. 6. 9.>')]}"
      ]
     },
     "execution_count": 5,
     "metadata": {},
     "output_type": "execute_result"
    }
   ],
   "source": [
    "def retrieve(state: AgentState) -> AgentState:\n",
    "    query = state[\"query\"]\n",
    "    retrieved_docs = income_tax_law_retriever.invoke(query)\n",
    "    return {\"context\": retrieved_docs}\n",
    "\n",
    "\n",
    "retrieve_result = retrieve({\"query\": \"연봉 5천만원인 거주자의 소득세는 얼마야?\"})\n",
    "retrieve_result"
   ]
  },
  {
   "cell_type": "code",
   "execution_count": 6,
   "id": "e374e9f0b066783a",
   "metadata": {
    "ExecuteTime": {
     "end_time": "2025-09-24T08:32:01.503624Z",
     "start_time": "2025-09-24T08:31:56.779600Z"
    }
   },
   "outputs": [
    {
     "data": {
      "text/plain": [
       "{'answer': '안녕하세요. 문의해 주신 “연봉\\u202f5천만원인 거주자의 소득세는 얼마인가?”에 대해 답변드리겠습니다.\\n\\n### 1. 소득세 계산 흐름 (제20조·제47조 기준)\\n\\n1. **총급여액(연봉) → 근로소득금액**  \\n   - 연봉\\u202f5천만원은 “총급여액”(비과세소득을 제외한 금액)으로 간주됩니다.  \\n   - 여기서 **근로소득공제(제47조)** 를 차감하면 최종적인 **근로소득금액**이 산출됩니다.\\n\\n2. **과세표준 산출**  \\n   - 근로소득금액에서 **인적공제·특별공제·근로소득세액공제** 등(법령에 따름) 를 추가로 차감하면 **과세표준**이 됩니다.\\n\\n3. **세율 적용**  \\n   - 과세표준에 **소득세율(구간별 누진세율)** 을 적용하여 **산출세액**을 구합니다.  \\n   - 산출세액에서 이미 원천징수된 세액(급여에서 원천 징수된 세액)을 차감하면 **납부할 세액**이 확정됩니다.\\n\\n### 2. 현재 제공된 정보에 없는 내용\\n\\n- **근로소득공제액**(제47조에 정해진 구체적 계산식)  \\n- **인적·특별공제** 등 세액을 감소시키는 항목들의 구체적인 금액  \\n- **소득세율표(구간별 세율 및 누진공제액)**  \\n\\n위 항목들은 **소득세법·소득세법 시행령·국세청 고시** 등에 따로 규정되어 있으며, 현재 대화에 포함되지 않았습니다.\\n\\n### 3. 결론\\n\\n제공된 조문만으로는  \\n\\n- **근로소득공제액**  \\n- **세율(구간별 누진세율 및 누진공제액)**  \\n\\n등을 알 수 없으므로, 정확한 **소득세 금액**을 산출할 수 없습니다.  \\n\\n다만, 일반적인 계산 절차는 아래와 같습니다.\\n\\n| 단계 | 내용 |\\n|------|------|\\n| 1 | **총급여액**\\u202f=\\u202f50,000,000\\u202f원 |\\n| 2 | **근로소득공제**\\u202f=\\u202f(법정 계산식에 따라 차감) |\\n| 3 | **근로소득금액**\\u202f=\\u202f총급여액\\u202f–\\u202f근로소득공제 |\\n| 4 | **과세표준**\\u202f=\\u202f근로소득금액\\u202f–\\u202f인적·특별공제 등 |\\n| 5 | **세율 적용**\\u202f=\\u202f과세표준에 구간별 세율 적용 → 산출세액 |\\n| 6 | **납부세액**\\u202f=\\u202f산출세액\\u202f–\\u202f원천징수세액 |\\n\\n### 4. 추가로 필요한 정보\\n\\n정확한 세액을 알려드리기 위해서는 다음이 필요합니다.\\n\\n1. **근로소득공제액**(소득 구간별 고정액 + 비율)  \\n2. **인적·특별공제**(본인·배우자·부양가족 등)  \\n3. **2025년(또는 적용 연도) 소득세율표**(구간별 세율 및 누진공제액)  \\n\\n이러한 정보를 제공해 주시면, 위 절차에 따라 구체적인 세액을 계산해 드릴 수 있습니다.  \\n\\n궁금하신 점이 있으면 추가 정보를 알려 주세요!'}"
      ]
     },
     "execution_count": 6,
     "metadata": {},
     "output_type": "execute_result"
    }
   ],
   "source": [
    "def generate(state: AgentState) -> AgentState:\n",
    "    query = state[\"query\"]\n",
    "    raw_context = state[\"context\"]\n",
    "\n",
    "    prompt = PromptTemplate.from_template(\"\"\"역할: 당신은 한국의 소득세법 전문가입니다.\n",
    "---\n",
    "지시: 오직 주어진 정보를 기반으로 사용자의 질문에 답하세요.\n",
    "---\n",
    "정보: {context}\n",
    "---\n",
    "사용자 질문: {query}\"\"\")\n",
    "    context = \"\\n\\n\".join([doc.page_content for doc in raw_context])\n",
    "    rag_chain = prompt | llm | StrOutputParser()\n",
    "    answer = rag_chain.invoke({\"query\": query, \"context\": context})\n",
    "    return {\"answer\": answer}\n",
    "\n",
    "\n",
    "generate_result = generate({\"query\": \"연봉 5천만원인 거주자의 소득세는 얼마야?\", \"context\": retrieve_result[\"context\"]})\n",
    "generate_result"
   ]
  },
  {
   "cell_type": "code",
   "execution_count": 7,
   "id": "d4e265d142b1ce56",
   "metadata": {
    "ExecuteTime": {
     "end_time": "2025-09-24T08:32:01.538617Z",
     "start_time": "2025-09-24T08:32:01.524682Z"
    }
   },
   "outputs": [],
   "source": [
    "llm_for_checking = ChatOllama(model=MODEL_LLM, temperature=0)  # 최대한 같은 답이 나올 수 있도록"
   ]
  },
  {
   "cell_type": "code",
   "execution_count": 8,
   "id": "ddb72e0502773b92",
   "metadata": {
    "ExecuteTime": {
     "end_time": "2025-09-24T08:32:02.945710Z",
     "start_time": "2025-09-24T08:32:01.542827Z"
    }
   },
   "outputs": [
    {
     "data": {
      "text/plain": [
       "'relevant'"
      ]
     },
     "execution_count": 8,
     "metadata": {},
     "output_type": "execute_result"
    }
   ],
   "source": [
    "def check_doc_relevance(state: AgentState) -> Literal[\"irrelevant\", \"relevant\"]:\n",
    "    query = state[\"query\"]\n",
    "    context = state[\"context\"]\n",
    "    prompt = PromptTemplate.from_template(\"\"\"역할: '검색된 문서 내용'과 '사용자의 질문'이 얼마나 연관이 있는지 등급 매기기입니다.\n",
    "---\n",
    "지시: 문서가 사용자 질문과 키워드나 의미적으로 관련이 있으면 1, 없으면 0을 반환하세요. 엄격한 기준이 아닌, 명백히 무관한 문서만 필터링하는 것이 목적입니다.\n",
    "---\n",
    "출력: 관련이 있으면 'relevant', 없으면 'irrelevant'\n",
    "---\n",
    "검색된 문서 내용:\n",
    "{documents}\n",
    "---\n",
    "사용자 질문: {question}\"\"\")\n",
    "    doc_relevance_chain = prompt | llm_for_checking | StrOutputParser()\n",
    "    return doc_relevance_chain.invoke(\n",
    "        {\n",
    "            \"question\": query,\n",
    "            \"documents\": context,\n",
    "        }\n",
    "    )\n",
    "\n",
    "\n",
    "relevance_result = check_doc_relevance(\n",
    "    {\n",
    "        \"query\": \"연봉 5천만원인 직장인의 소득세는 얼마야?\",\n",
    "        \"context\": retrieve_result[\"context\"],\n",
    "    }\n",
    ")\n",
    "relevance_result"
   ]
  },
  {
   "cell_type": "code",
   "execution_count": 9,
   "id": "1f2e79c0f728270e",
   "metadata": {
    "ExecuteTime": {
     "end_time": "2025-09-24T08:32:04.132782Z",
     "start_time": "2025-09-24T08:32:02.967370Z"
    }
   },
   "outputs": [
    {
     "data": {
      "text/plain": [
       "{'query': '연봉 5천만원인 거주자의 소득세는?'}"
      ]
     },
     "execution_count": 9,
     "metadata": {},
     "output_type": "execute_result"
    }
   ],
   "source": [
    "def rewrite(state: AgentState) -> AgentState:\n",
    "    original_query = state[\"query\"]\n",
    "    dictionary = [\"- 사람을 나타내는 표현 -> 거주자\"]\n",
    "    prompt = PromptTemplate.from_template(f\"\"\"역할: 당신은 한국의 소득세법 VectorDB 질의로 질문을 변환하는 변환기입니다.\n",
    "---\n",
    "지시: 사용자의 질문을 보고, 우리의 사전을 참고해서 소득세법이 들어있는 VectorDB 에서 Document 가 잘 검색될 수 있도록 사용자의 질문을 변경해주세요.\n",
    "---\n",
    "사전:\n",
    "{dictionary}\n",
    "---\n",
    "출력: 변경된 질문 내용\n",
    "---\n",
    "질문: {{query}}\n",
    "\"\"\")\n",
    "    rewrite_query_chain = prompt | llm | StrOutputParser()\n",
    "    return {\"query\": rewrite_query_chain.invoke(original_query)}\n",
    "\n",
    "\n",
    "rewrite_result = rewrite({\"query\": \"연봉 5천만원인 사람의 소득세는?\"})\n",
    "rewrite_result"
   ]
  },
  {
   "cell_type": "code",
   "execution_count": 10,
   "id": "526040521f53faa8",
   "metadata": {
    "ExecuteTime": {
     "end_time": "2025-09-24T08:32:07.907953Z",
     "start_time": "2025-09-24T08:32:04.159096Z"
    }
   },
   "outputs": [
    {
     "data": {
      "text/plain": [
       "'hallucinated'"
      ]
     },
     "execution_count": 10,
     "metadata": {},
     "output_type": "execute_result"
    }
   ],
   "source": [
    "def check_hallucination(state: AgentState) -> Literal[\"not-hallucinated\", \"hallucinated\"]:\n",
    "    answer = state[\"answer\"]\n",
    "    raw_context = state[\"context\"]\n",
    "    prompt = PromptTemplate.from_template(\"\"\"역할: '학생의 답변'이 오직 '문서 내용'에 기반한 답변인지 아닌지를 판별하는 선생님입니다.\n",
    "---\n",
    "출력: 오직 문서 내용에 대해서만 근거한다면 'not-hallucinated', 아니면 'hallucinated'\n",
    "---\n",
    "문서 내용: {documents}\n",
    "---\n",
    "학생의 답변: {student_answer}\"\"\")\n",
    "    check_chain = prompt | llm_for_checking | StrOutputParser()\n",
    "\n",
    "    context = \"\\n\\n\".join([doc.page_content for doc in raw_context])\n",
    "    return check_chain.invoke({\"documents\": context, \"student_answer\": answer})\n",
    "\n",
    "\n",
    "hallucination_result = check_hallucination({\"answer\": generate_result[\"answer\"], \"context\": retrieve_result[\"context\"]})\n",
    "hallucination_result"
   ]
  },
  {
   "cell_type": "code",
   "execution_count": 11,
   "id": "c12982cb877b2276",
   "metadata": {
    "ExecuteTime": {
     "end_time": "2025-09-24T08:32:09.163140Z",
     "start_time": "2025-09-24T08:32:07.933748Z"
    }
   },
   "outputs": [
    {
     "data": {
      "text/plain": [
       "'unuseful'"
      ]
     },
     "execution_count": 11,
     "metadata": {},
     "output_type": "execute_result"
    }
   ],
   "source": [
    "def check_useful_answer(state: AgentState) -> Literal[\"unuseful\", \"useful\"]:\n",
    "    query = state[\"query\"]\n",
    "    answer = state[\"answer\"]\n",
    "    prompt = PromptTemplate.from_template(\"\"\"지시: '답변'이 '질문'에 대해서 유용한지를 판단하세요.\n",
    "---\n",
    "출력: 유용한 답변이면 'useful', 아니면 'unuseful'\n",
    "---\n",
    "질문: {query}\n",
    "---\n",
    "답변: {answer}\"\"\")\n",
    "    check_chain = prompt | llm_for_checking | StrOutputParser()\n",
    "    return check_chain.invoke({\"query\": query, \"answer\": answer})\n",
    "\n",
    "\n",
    "useful_answer_result = check_useful_answer(\n",
    "    {\n",
    "        \"query\": rewrite_result[\"query\"],\n",
    "        \"answer\": generate_result[\"answer\"],\n",
    "    }\n",
    ")\n",
    "useful_answer_result"
   ]
  },
  {
   "cell_type": "markdown",
   "id": "68f9bf5ffca84d3f",
   "metadata": {
    "ExecuteTime": {
     "end_time": "2025-09-24T07:32:01.591140Z",
     "start_time": "2025-09-24T07:32:01.589605Z"
    }
   },
   "source": [
    "## 3. Edge 추가하기\n",
    "\n",
    "![Self-Reflective RAG](https://blog.langchain.com/content/images/size/w1000/2024/02/image-6.png)\n"
   ]
  },
  {
   "cell_type": "code",
   "execution_count": 12,
   "id": "6abc21a7cfd539b9",
   "metadata": {
    "ExecuteTime": {
     "end_time": "2025-09-24T08:32:09.200053Z",
     "start_time": "2025-09-24T08:32:09.195894Z"
    }
   },
   "outputs": [
    {
     "data": {
      "text/plain": [
       "<langgraph.graph.state.StateGraph at 0x1683f3890>"
      ]
     },
     "execution_count": 12,
     "metadata": {},
     "output_type": "execute_result"
    }
   ],
   "source": [
    "graph_builder.add_node(\"retrieve\", retrieve)\n",
    "graph_builder.add_node(\"rewrite\", rewrite)\n",
    "graph_builder.add_node(\"generate\", generate)\n",
    "\n",
    "\n",
    "def passthrough(_: AgentState) -> AgentState:  # 조건 edge 를 바로 연결할 수는 없음\n",
    "    return {}  # 상태 변경 없음\n",
    "\n",
    "\n",
    "graph_builder.add_node(\"passthrough\", passthrough)"
   ]
  },
  {
   "cell_type": "code",
   "execution_count": 13,
   "id": "781d156a9b8c3fda",
   "metadata": {
    "ExecuteTime": {
     "end_time": "2025-09-24T08:32:09.224173Z",
     "start_time": "2025-09-24T08:32:09.220694Z"
    }
   },
   "outputs": [
    {
     "data": {
      "text/plain": [
       "<langgraph.graph.state.StateGraph at 0x1683f3890>"
      ]
     },
     "execution_count": 13,
     "metadata": {},
     "output_type": "execute_result"
    }
   ],
   "source": [
    "from langgraph.graph import END, START\n",
    "\n",
    "\n",
    "graph_builder.add_edge(START, \"retrieve\")\n",
    "graph_builder.add_conditional_edges(\n",
    "    \"retrieve\",\n",
    "    check_doc_relevance,\n",
    "    {\n",
    "        \"irrelevant\": END,\n",
    "        \"relevant\": \"generate\",\n",
    "    },\n",
    ")\n",
    "graph_builder.add_conditional_edges(\n",
    "    \"generate\",\n",
    "    check_hallucination,\n",
    "    {\n",
    "        \"not-hallucinated\": \"passthrough\",\n",
    "        \"hallucinated\": END,\n",
    "    },\n",
    ")\n",
    "graph_builder.add_conditional_edges(\n",
    "    \"passthrough\",\n",
    "    check_useful_answer,\n",
    "    {\n",
    "        \"unuseful\": \"rewrite\",\n",
    "        \"useful\": END,\n",
    "    },\n",
    ")\n",
    "\n",
    "graph_builder.add_edge(\"rewrite\", \"retrieve\")"
   ]
  },
  {
   "cell_type": "code",
   "execution_count": 14,
   "id": "bd68b624ca680562",
   "metadata": {
    "ExecuteTime": {
     "end_time": "2025-09-24T08:32:09.241553Z",
     "start_time": "2025-09-24T08:32:09.233203Z"
    }
   },
   "outputs": [
    {
     "data": {
      "text/html": [
       "\n",
       "    <div id=\"mermaid-container-40f56bd0\"></div>\n",
       "\n",
       "    <script type=\"module\">\n",
       "        import mermaid from 'https://cdn.jsdelivr.net/npm/mermaid@10/dist/mermaid.esm.min.mjs';\n",
       "\n",
       "        mermaid.initialize({\n",
       "            startOnLoad: false,\n",
       "            theme: 'default',\n",
       "            securityLevel: 'loose'\n",
       "        });\n",
       "\n",
       "        const graphDefinition = `---\n",
       "config:\n",
       "  flowchart:\n",
       "    curve: linear\n",
       "---\n",
       "graph TD;\n",
       "\t__start__([<p>__start__</p>]):::first\n",
       "\tretrieve(retrieve)\n",
       "\trewrite(rewrite)\n",
       "\tgenerate(generate)\n",
       "\tpassthrough(passthrough)\n",
       "\t__end__([<p>__end__</p>]):::last\n",
       "\t__start__ --> retrieve;\n",
       "\tgenerate -. &nbsp;hallucinated&nbsp; .-> __end__;\n",
       "\tgenerate -. &nbsp;not-hallucinated&nbsp; .-> passthrough;\n",
       "\tpassthrough -. &nbsp;useful&nbsp; .-> __end__;\n",
       "\tpassthrough -. &nbsp;unuseful&nbsp; .-> rewrite;\n",
       "\tretrieve -. &nbsp;irrelevant&nbsp; .-> __end__;\n",
       "\tretrieve -. &nbsp;relevant&nbsp; .-> generate;\n",
       "\trewrite --> retrieve;\n",
       "\tclassDef default fill:#f2f0ff,line-height:1.2\n",
       "\tclassDef first fill-opacity:0\n",
       "\tclassDef last fill:#bfb6fc\n",
       "`;\n",
       "        const container = document.getElementById('mermaid-container-40f56bd0');\n",
       "\n",
       "        try {\n",
       "            const { svg } = await mermaid.render('graphDiv-' + Date.now(), graphDefinition);\n",
       "            container.innerHTML = svg;\n",
       "        } catch (error) {\n",
       "            container.innerHTML = '<pre>' + error + '</pre>';\n",
       "        }\n",
       "    </script>\n",
       "    "
      ],
      "text/plain": [
       "<IPython.core.display.HTML object>"
      ]
     },
     "jetTransient": {
      "display_id": null
     },
     "metadata": {},
     "output_type": "display_data"
    }
   ],
   "source": [
    "self_rag_graph = graph_builder.compile()\n",
    "draw_mermaid_with_html(self_rag_graph.get_graph())"
   ]
  },
  {
   "cell_type": "code",
   "execution_count": 15,
   "id": "df6db53d2919b775",
   "metadata": {
    "ExecuteTime": {
     "end_time": "2025-09-24T08:32:21.811435Z",
     "start_time": "2025-09-24T08:32:09.259899Z"
    }
   },
   "outputs": [
    {
     "data": {
      "text/plain": [
       "{'query': '연봉 5천만원인 직장인의 소득세는?',\n",
       " 'context': [Document(id='22ed77a4-2054-46d1-a6d6-fcc2a995584f', metadata={'source': '../data/income-tax-law-parsed-by-upstage.md', 'start_index': 21510}, page_content='과세기간의 총수입금액에서 이에 사용된 필요경비를 공제한 금액으로 하며, 필요경비가 총 수입금액을 초과하는 경우 그 초과하는 금액을 \"결손금\"이라 한다. ③ 제1항 각 호에 따른 사업의 범위에 관하여는 이 법에 특별한 규정이 있는 경우 외에는 「통계법」 제22조에 따라 통계청장이 고시하는 한국표준산업분류에 따르고, 그 밖의 사업소득의 범위에 관하여 필요한 사항은 대통령령으로 정한다.# [전문개정 2009. 12. 31.]제20조(근로소득) ① 근로소득은 해당 과세기간에 발생한 다음 각 호의 소득으로 한다. <개정 2016. 12. 20., 2024. 12. 31.>- 1. 근로를 제공함으로써 받는 봉급 · 급료 · 보수 · 세비 · 임금 · 상여 · 수당과 이와 유사한 성질의 급여 - 2. 법인의 주주총회 · 사원총회 또는 이에 준하는 의결기관의 결의에 따라 상여로 받는 소득 - 3. 「법인세법」에 따라 상여로 처분된 금액 - 4. 퇴직함으로써 받는 소득으로서 퇴직소득에 속하지 아니하는 소득 - 5. 종업원등 또는 대학의 교직원이 지급받는 직무발명보상금(제21조제1항제22호의2에 따른 직무발명보상금은 제 - 외한다) - 6. 사업자나 법인이 생산 · 공급하는 재화 또는 용역을 그 사업자나 법인(「독점규제 및 공정거래에 관한 법률」 에 따 - 른 계열회사를 포함한다)의 사업장에 종사하는 임원등에게 대통령령으로 정하는 바에 따라 시가보다 낮은 가격 - 으로 제공하거나 구입할 수 있도록 지원함으로써 해당 임원등이 얻는 이익 - ② 근로소득금액은 제1항 각 호의 소득의 금액의 합계액(비과세소득의 금액은 제외하며, 이하 \"총급여액\"이라 한다 - )에서 제47조에 따른 근로소득공제를 적용한 금액으로 한다. - ③ 근로소득의 범위에 관하여 필요한 사항은 대통령령으로 정한다. - [전문개정 2009. 12. 31.]'),\n",
       "  Document(id='9a16331d-6530-4ec9-b803-81d2330e5ec0', metadata={'start_index': 221395, 'source': '../data/income-tax-law-parsed-by-upstage.md'}, page_content='지급) 국세청장은 제150조에 따라 근로소득에 대한 소득세를 징수하여 납부한 자에게 대통령령으로 정하는 바에 따라 교부금을 지급하여야 한다. <개정 2024. 12. 31.>[전문개정 2009. 12. 31.]제170조(질문 · 조사) ① 소득세에 관한 사무에 종사하는 공무원은 그 직무 수행을 위하여 필요한 경우에는 다음 각 호 의 어느 하나에 해당하는 자에 대하여 질문을 하거나 해당 장부 · 서류 또는 그 밖의 물건을 조사하거나 그 제출을 명할 수 있다. 다만, 제21조제1항제26호에 따른 종교인소득(제21조제4항에 해당하는 경우를 포함한다)에 대해서는 종교단체의 장부 · 서류 또는 그 밖의 물건 중에서 종교인소득과 관련된 부분에 한정하여 조사하거나 그 제출을 명 할 수 있다. <개정 2012. 1. 1., 2015. 12. 15., 2018. 12. 31., 2020. 6. 9., 2020. 12. 29.>- 1. 납세의무자 또는 납세의무가 있다고 인정되는 자 - 2. 원천징수의무자 - 3. 납세조합 - 4. 지급명세서 제출의무자 - 5. 제156조 및 제156조의3부터 제156조의6까지의 규정에 따른 원천징수의무자 - 6. 「국세기본법」 제82조에 따른 납세관리인 - 7. 제1호에서 규정하는 자와 거래가 있다고 인정되는 자 - 8. 납세의무자가 조직한 동업조합과 이에 준하는 단체 - 9. 기부금영수증을 발급하는 자 - ② 제1항을 적용하는 경우 소득세에 관한 사무에 종사하는 공무원은 직무를 위하여 필요한 범위 외에 다른 목적 등 - 을 위하여 그 권한을 남용해서는 아니 된다.<신설 2018. 12. 31., 2020. 6. 9.>'),\n",
       "  Document(id='818b6b72-0b2c-464e-b603-30f4a56a2920', metadata={'start_index': 26270, 'source': '../data/income-tax-law-parsed-by-upstage.md'}, page_content='제외한다)은 기타소득으로 한다.<신설 2020. 12. 29.>③ 기타소득금액은 해당 과세기간의 총수입금액에서 이에 사용된 필요경비를 공제한 금액으로 한다.<개정 2020.12. 29.>법제처14국가법령정보센터소득세법- ④ 제1항제26호에 따른 종교인소득에 대하여 제20조제1항에 따른 근로소득으로 원천징수하거나 과세표준확정신고 - 를 한 경우에는 해당 소득을 근로소득으로 본다.<신설 2015. 12. 15., 2020. 12. 29.> - ⑤ 기타소득의 구체적 범위 및 계산방법과 그 밖에 필요한 사항은 대통령령으로 정한다.<개정 2015. 12. 15., 2020. - 12. 29.> - [전문개정 2009. 12. 31.] 제22조(퇴직소득) ① 퇴직소득은 해당 과세기간에 발생한 다음 각 호의 소득으로 한다. <개정 2013. 1. 1.>1. 공적연금 관련법에 따라 받는 일시금- 2. 사용자 부담금을 기초로 하여 현실적인 퇴직을 원인으로 지급받는 소득 - 3. 그 밖에 제1호 및 제2호와 유사한 소득으로서 대통령령으로 정하는 소득 - ② 제1항제1호에 따른 퇴직소득은 2002년 1월 1일 이후에 납입된 연금 기여금 및 사용자 부담금을 기초로 하거나 - 2002년 1월 1일 이후 근로의 제공을 기초로 하여 받은 일시금으로 한다.<개정 2013. 1. 1.> - ③퇴직소득금액은 제1항 각 호에 따른 소득의 금액의 합계액(비과세소득의 금액은 제외한다)으로 한다. 다만, 대통 - 령령으로 정하는 임원의 퇴직소득금액(제1항제1호의 금액은 제외하며, 2011년 12월 31일에 퇴직하였다고 가정할 - 때 지급받을 대통령령으로 정하는 퇴직소득금액이 있는 경우에는 그 금액을 뺀 금액을 말한다)이 다음 계산식에 따 - 라 계산한 금액을 초과하는 경우에는 제1항에도 불구하고 그 초과하는 금액은 근로소득으로 본다.<개정 2012. 1. 1, 2013. 1. 1, 2014. 12. 23., 2019. 12. 31.>'),\n",
       "  Document(id='e7fbd343-ec27-409d-b45d-9c669e8e8164', metadata={'source': '../data/income-tax-law-parsed-by-upstage.md', 'start_index': 42845}, page_content='해당 연금계좌에 있는 피상속인의 소득금액은 상속인의 소득금액으로 보아 소득세를 계산한다- <신설 2013. 1. 1.> - ③ 제2항에 따른 연금계좌의 승계방법 및 절차 등에 관하여 필요한 사항은 대통령령으로 정한다.<신설 2013. 1. 1.> - [전문개정 2009. 12. 31.] 제45조(결손금 및 이월결손금의 공제) ① 사업자가 비치 · 기록한 장부에 의하여 해당 과세기간의 사업소득금액을 계산 할 때 발생한 결손금은 그 과세기간의 종합소득과세표준을 계산할 때 근로소득금액 · 연금소득금액 · 기타소득금액· 이자소득금액 · 배당소득금액에서 순서대로 공제한다.- ② 제1항에도 불구하고 다음 각 호의 어느 하나에 해당하는 사업(이하 \"부동산임대업\"이라 한다)에서 발생한 결손금 - 은 종합소득 과세표준을 계산할 때 공제하지 아니한다. 다만, 주거용 건물 임대업의 경우에는 그러하지 아니하다.')],\n",
       " 'answer': '**답변 요약**\\n\\n- 연봉\\u202f5,000만원(₩50,000,000)인 직장인의 **소득세는**  \\n  ① **총급여액**(연봉 전액) → ② **근로소득공제**(제47조에 따라 정해지는 금액) 차감 → ③ **과세표준**(근로소득금액) 산출 → ④ **소득세율**(누진세율) 적용 → ⑤ **산출세액**(세액)에서 **근로소득세액공제·세액감면** 등을 차감한 **실제 납부세액**을 구합니다.\\n\\n---\\n\\n### 1. 근로소득금액 산출 방법 (법령에 근거)\\n\\n| 단계 | 내용 | 법령 근거 |\\n|------|------|----------|\\n| **① 총급여액** | 연봉\\u202f5,000만원 전액을 “총급여액”이라 함(비과세소득은 제외) | 제20조\\xa0①, 제20조\\xa0② |\\n| **② 근로소득공제** | 총급여액에서 **제47조**에 따라 정해지는 **근로소득공제**액을 차감 | 제20조\\xa0② |\\n| **③ 근로소득금액** | `총급여액 – 근로소득공제 = 근로소득금액` | 제20조\\xa0② |\\n| **④ 과세표준** | 근로소득금액을 다른 소득(사업소득·기타소득·이자·배당 등)과 합산한 뒤, 필요경비·결손금·공제 등을 적용하여 **종합소득과세표준**을 산출 | 제45조(결손금·이월결손금) 등 |\\n| **⑤ 소득세액** | 과세표준에 **누진세율**을 적용하고, **근로소득세액공제·세액감면** 등을 차감 | (세율·공제·감면은 제47조·관련 대통령령에 별도 규정) |\\n\\n> **핵심**: 법령 본문에 **근로소득공제 금액**과 **소득세 누진세율**(예: 6\\u202f%\\u202f~\\u202f45\\u202f%)에 대한 구체적인 수치는 포함되지 않았습니다. 따라서 여기서 정확한 세액을 산출할 수는 없습니다.\\n\\n---\\n\\n### 2. 실제 세액을 구하려면 필요한 추가 정보\\n\\n| 필요 항목 | 설명 | 근거(법령) |\\n|----------|------|-----------|\\n| **근로소득공제율·공제액** | 연봉 구간별로 정해지는 공제액(예: 5,000만원 이하 구간은 일정액 + 일정 비율) | 제47조(근로소득공제) 및 대통령령 |\\n| **소득세 누진세율표** | 과세표준 구간별 적용 세율(6\\u202f%\\u202f~\\u202f45\\u202f%) | 소득세법(세율 규정) |\\n| **비과세·면세 항목** | 예: 근로소득 중 비과세 급여(식대·교통비 등) | 제20조\\u202f①(비과세소득 제외) |\\n| **세액공제·감면** | 근로소득세액공제, 연금보험료 공제, 기부금 공제 등 | 소득세법·대통령령(공제·감면 규정) |\\n\\n이러한 항목을 모두 적용하면, **연봉\\u202f5,000만원**인 직장인의 실제 납부세액을 정확히 산출할 수 있습니다.\\n\\n---\\n\\n### 3. 실무에서 흔히 보는 계산 흐름 (예시)\\n\\n> 아래는 **구체적인 금액이 제공되지 않은 상황**에서 일반적인 흐름만을 보여드립니다.\\n\\n1. **총급여액** = ₩50,000,000  \\n2. **근로소득공제** = ? (예: 1,500,000\\u202f+\\u202f총급여액\\u202f×\\u202f40\\u202f% 등 – 실제는 제47조 규정에 따름)  \\n3. **근로소득금액** = 총급여액 – 근로소득공제  \\n4. **과세표준** = (근로소득금액 + 기타소득 등) – 결손금·필요경비·공제 등  \\n5. **세율 적용** = 과세표준 구간에 따라 6\\u202f%\\u202f~\\u202f45\\u202f% 중 해당 세율 적용  \\n6. **산출세액** = 과세표준\\u202f×\\u202f세율 – 근로소득세액공제·세액감면 등  \\n\\n---\\n\\n### 4. 결론\\n\\n- **제공된 법령 텍스트만으로는** 연봉\\u202f5,000만원 직장인의 **정확한 소득세액**을 숫자로 제시할 수 없습니다.  \\n- **필요한 추가 정보**(근로소득공제율·공제액, 누진세율표, 비과세·공제 항목 등)를 확보한 뒤 위 절차에 따라 계산하면 정확한 세액을 구할 수 있습니다.  \\n\\n궁금하신 부분이 “구체적인 공제액·세율을 어떻게 적용하는가”라면, 해당 내용이 명시된 **제47조(근로소득공제)와 소득세 누진세율표**(대통령령)를 참고하시길 권장드립니다. 필요한 추가 조문을 알려주시면, 그에 기반한 보다 구체적인 계산도 도와드릴 수 있습니다.'}"
      ]
     },
     "execution_count": 15,
     "metadata": {},
     "output_type": "execute_result"
    }
   ],
   "source": [
    "self_rag_graph.invoke({\"query\": \"연봉 5천만원인 직장인의 소득세는?\"})"
   ]
  }
 ],
 "metadata": {
  "kernelspec": {
   "display_name": "Python 3",
   "language": "python",
   "name": "python3"
  },
  "language_info": {
   "codemirror_mode": {
    "name": "ipython",
    "version": 2
   },
   "file_extension": ".py",
   "mimetype": "text/x-python",
   "name": "python",
   "nbconvert_exporter": "python",
   "pygments_lexer": "ipython2",
   "version": "2.7.6"
  }
 },
 "nbformat": 4,
 "nbformat_minor": 5
}

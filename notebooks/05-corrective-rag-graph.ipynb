{
 "cells": [
  {
   "cell_type": "markdown",
   "id": "4f90b2c877c55fd1",
   "metadata": {
    "collapsed": true
   },
   "source": [
    "## Corrective RAG\n",
    "\n",
    "![Corrective RAG](https://blog.langchain.com/content/images/2024/02/data-src-image-811e0f40-3d76-4ab9-9d0d-a720ffdd380b.png)\n",
    "\n",
    "- [참조 문서](https://blog.langchain.com/agentic-rag-with-langgraph/)\n",
    "- Travily 를 이용하여 웹 검색을 통한 RAG"
   ]
  },
  {
   "cell_type": "code",
   "id": "c33a6a17be4e386",
   "metadata": {
    "ExecuteTime": {
     "end_time": "2025-09-24T09:14:12.851756Z",
     "start_time": "2025-09-24T09:14:12.577490Z"
    }
   },
   "source": [
    "import uuid\n",
    "\n",
    "from IPython.display import HTML\n",
    "from langchain_core.runnables.graph import Graph\n",
    "\n",
    "\n",
    "def draw_mermaid_with_html(g: Graph):\n",
    "    mermaid_code = g.draw_mermaid()\n",
    "\n",
    "    container_id = f\"mermaid-container-{uuid.uuid4().hex[:8]}\"\n",
    "\n",
    "    html = f\"\"\"\n",
    "    <div id=\"{container_id}\"></div>\n",
    "\n",
    "    <script type=\"module\">\n",
    "        import mermaid from 'https://cdn.jsdelivr.net/npm/mermaid@10/dist/mermaid.esm.min.mjs';\n",
    "\n",
    "        mermaid.initialize({{\n",
    "            startOnLoad: false,\n",
    "            theme: 'default',\n",
    "            securityLevel: 'loose'\n",
    "        }});\n",
    "\n",
    "        const graphDefinition = `{mermaid_code}`;\n",
    "        const container = document.getElementById('{container_id}');\n",
    "\n",
    "        try {{\n",
    "            const {{ svg }} = await mermaid.render('graphDiv-' + Date.now(), graphDefinition);\n",
    "            container.innerHTML = svg;\n",
    "        }} catch (error) {{\n",
    "            container.innerHTML = '<pre>' + error + '</pre>';\n",
    "        }}\n",
    "    </script>\n",
    "    \"\"\"\n",
    "\n",
    "    display(HTML(html))"
   ],
   "outputs": [],
   "execution_count": 1
  },
  {
   "cell_type": "markdown",
   "id": "b59f17160cedd1a2",
   "metadata": {},
   "source": "## 1. retriever 및 llm 정의"
  },
  {
   "cell_type": "code",
   "id": "91b5c876a27e578f",
   "metadata": {
    "ExecuteTime": {
     "end_time": "2025-09-24T09:14:15.273863Z",
     "start_time": "2025-09-24T09:14:12.854611Z"
    }
   },
   "source": [
    "from pathlib import Path\n",
    "\n",
    "from langchain_chroma import Chroma\n",
    "from langchain_ollama import ChatOllama, OllamaEmbeddings\n",
    "\n",
    "\n",
    "DATA_DIR = Path(\"../data\")\n",
    "\n",
    "MODEL_EMBEDDINGS = \"bge-m3:567m\"\n",
    "MODEL_LLM = \"gpt-oss:120b-cloud\"\n",
    "\n",
    "VECTOR_DB_PERSIST_DIR = DATA_DIR / \"chroma_db\"\n",
    "VECTOR_DB_COLLECTION_NAME = \"korean_income_tax_law\"\n",
    "\n",
    "embedding_function = OllamaEmbeddings(model=MODEL_EMBEDDINGS)\n",
    "\n",
    "vector_store = Chroma(\n",
    "    persist_directory=VECTOR_DB_PERSIST_DIR,\n",
    "    embedding_function=embedding_function,\n",
    "    collection_name=VECTOR_DB_COLLECTION_NAME,\n",
    ")\n",
    "\n",
    "income_tax_law_retriever = vector_store.as_retriever(kwargs={\"k\": 1})  # 검색 결과는 1개만\n",
    "\n",
    "llm = ChatOllama(model=MODEL_LLM)"
   ],
   "outputs": [],
   "execution_count": 2
  },
  {
   "cell_type": "markdown",
   "id": "f306ec84b17a217e",
   "metadata": {},
   "source": "## 2. Node 및 Conditional Edge 용 함수 만들기"
  },
  {
   "cell_type": "code",
   "id": "4ee5ac11e672b46e",
   "metadata": {
    "ExecuteTime": {
     "end_time": "2025-09-24T09:14:15.318541Z",
     "start_time": "2025-09-24T09:14:15.308108Z"
    }
   },
   "source": [
    "from typing import Literal, TypedDict\n",
    "\n",
    "from dotenv import load_dotenv\n",
    "from langchain_core.output_parsers import StrOutputParser\n",
    "from langchain_core.prompts import PromptTemplate\n",
    "\n",
    "\n",
    "load_dotenv()"
   ],
   "outputs": [
    {
     "data": {
      "text/plain": [
       "True"
      ]
     },
     "execution_count": 3,
     "metadata": {},
     "output_type": "execute_result"
    }
   ],
   "execution_count": 3
  },
  {
   "cell_type": "code",
   "id": "33db9fae1f4ec22f",
   "metadata": {
    "ExecuteTime": {
     "end_time": "2025-09-24T09:14:15.327531Z",
     "start_time": "2025-09-24T09:14:15.325887Z"
    }
   },
   "source": [
    "from langchain_core.documents import Document\n",
    "\n",
    "\n",
    "class AgentState(TypedDict):\n",
    "    query: str\n",
    "    context: list[Document]\n",
    "    answer: str"
   ],
   "outputs": [],
   "execution_count": 4
  },
  {
   "cell_type": "code",
   "id": "a1993975700dee83",
   "metadata": {
    "ExecuteTime": {
     "end_time": "2025-09-24T09:14:15.331496Z",
     "start_time": "2025-09-24T09:14:15.330040Z"
    }
   },
   "source": [
    "def retrieve(state: AgentState) -> AgentState:\n",
    "    query = state[\"query\"]\n",
    "    retrieved_docs = income_tax_law_retriever.invoke(query)\n",
    "    return {\"context\": retrieved_docs}"
   ],
   "outputs": [],
   "execution_count": 5
  },
  {
   "cell_type": "code",
   "id": "2b43997e5ade95cf",
   "metadata": {
    "ExecuteTime": {
     "end_time": "2025-09-24T09:14:15.335261Z",
     "start_time": "2025-09-24T09:14:15.333564Z"
    }
   },
   "source": [
    "def generate(state: AgentState) -> AgentState:\n",
    "    query = state[\"query\"]\n",
    "    raw_context = state[\"context\"]\n",
    "\n",
    "    prompt = PromptTemplate.from_template(\"\"\"역할: 당신은 한국의 소득세법 전문가입니다.\n",
    "---\n",
    "지시: 오직 주어진 정보를 기반으로 사용자의 질문에 답하세요.\n",
    "---\n",
    "정보: {context}\n",
    "---\n",
    "사용자 질문: {query}\"\"\")\n",
    "    context = \"\\n\\n\".join([doc.page_content for doc in raw_context])\n",
    "    rag_chain = prompt | llm | StrOutputParser()\n",
    "    answer = rag_chain.invoke({\"query\": query, \"context\": context})\n",
    "    return {\"answer\": answer}"
   ],
   "outputs": [],
   "execution_count": 6
  },
  {
   "cell_type": "code",
   "id": "e51aae41c925bc09",
   "metadata": {
    "ExecuteTime": {
     "end_time": "2025-09-24T09:14:15.346353Z",
     "start_time": "2025-09-24T09:14:15.337367Z"
    }
   },
   "source": [
    "llm_for_checking = ChatOllama(model=MODEL_LLM, temperature=0)  # 최대한 같은 답이 나올 수 있도록"
   ],
   "outputs": [],
   "execution_count": 7
  },
  {
   "cell_type": "code",
   "id": "d84d6ab6b6ad00f9",
   "metadata": {
    "ExecuteTime": {
     "end_time": "2025-09-24T09:14:15.350450Z",
     "start_time": "2025-09-24T09:14:15.348635Z"
    }
   },
   "source": [
    "def check_doc_relevance(state: AgentState) -> Literal[\"irrelevant\", \"relevant\"]:\n",
    "    query = state[\"query\"]\n",
    "    context = state[\"context\"]\n",
    "    prompt = PromptTemplate.from_template(\"\"\"역할: '검색된 문서 내용'과 '사용자의 질문'이 얼마나 연관이 있는지 등급 매기기입니다.\n",
    "---\n",
    "지시: 문서가 사용자 질문과 키워드나 의미적으로 관련이 있으면 1, 없으면 0을 반환하세요. 엄격한 기준이 아닌, 명백히 무관한 문서만 필터링하는 것이 목적입니다.\n",
    "---\n",
    "출력: 관련이 있으면 'relevant', 없으면 'irrelevant'\n",
    "---\n",
    "검색된 문서 내용:\n",
    "{documents}\n",
    "---\n",
    "사용자 질문: {question}\"\"\")\n",
    "    doc_relevance_chain = prompt | llm_for_checking | StrOutputParser()\n",
    "    return doc_relevance_chain.invoke(\n",
    "        {\n",
    "            \"question\": query,\n",
    "            \"documents\": context,\n",
    "        }\n",
    "    )"
   ],
   "outputs": [],
   "execution_count": 8
  },
  {
   "cell_type": "code",
   "id": "f7889cd65bee87a5",
   "metadata": {
    "ExecuteTime": {
     "end_time": "2025-09-24T09:14:15.353817Z",
     "start_time": "2025-09-24T09:14:15.352359Z"
    }
   },
   "source": [
    "def rewrite(state: AgentState) -> AgentState:\n",
    "    original_query = state[\"query\"]\n",
    "    prompt = PromptTemplate.from_template(\"\"\"역할: 당신은 검색어 변환기입니다.\n",
    "---\n",
    "지시: 사용자의 질문을 보고, 웹 검색에 용의하게 변경해주세요.\n",
    "---\n",
    "출력: 변경된 질문 내용\n",
    "---\n",
    "질문: {query}\n",
    "\"\"\")\n",
    "    rewrite_query_chain = prompt | llm | StrOutputParser()\n",
    "    return {\"query\": rewrite_query_chain.invoke(original_query)}"
   ],
   "outputs": [],
   "execution_count": 9
  },
  {
   "cell_type": "code",
   "id": "877c3f0933d1a429",
   "metadata": {
    "ExecuteTime": {
     "end_time": "2025-09-24T09:14:15.360479Z",
     "start_time": "2025-09-24T09:14:15.355507Z"
    }
   },
   "source": [
    "from langchain_community.retrievers import TavilySearchAPIRetriever\n",
    "\n",
    "\n",
    "web_search_retriever = TavilySearchAPIRetriever(k=3)\n",
    "\n",
    "\n",
    "def web_search(state: AgentState) -> AgentState:\n",
    "    query = state[\"query\"]\n",
    "    return {\"context\": web_search_retriever.invoke(query)}"
   ],
   "outputs": [],
   "execution_count": 10
  },
  {
   "cell_type": "code",
   "id": "2b418af85a1b68c3",
   "metadata": {
    "ExecuteTime": {
     "end_time": "2025-09-24T09:14:15.442775Z",
     "start_time": "2025-09-24T09:14:15.362476Z"
    }
   },
   "source": [
    "from langgraph.graph import END, START, StateGraph\n",
    "\n",
    "\n",
    "graph_builder = StateGraph(AgentState)"
   ],
   "outputs": [],
   "execution_count": 11
  },
  {
   "cell_type": "code",
   "id": "aab4322b71b67ad9",
   "metadata": {
    "ExecuteTime": {
     "end_time": "2025-09-24T09:14:15.447662Z",
     "start_time": "2025-09-24T09:14:15.445389Z"
    }
   },
   "source": [
    "graph_builder.add_node(\"retrieve\", retrieve)\n",
    "graph_builder.add_node(\"generate\", generate)\n",
    "graph_builder.add_node(\"rewrite\", rewrite)\n",
    "graph_builder.add_node(\"web_search\", web_search)"
   ],
   "outputs": [
    {
     "data": {
      "text/plain": [
       "<langgraph.graph.state.StateGraph at 0x126e379e0>"
      ]
     },
     "execution_count": 12,
     "metadata": {},
     "output_type": "execute_result"
    }
   ],
   "execution_count": 12
  },
  {
   "cell_type": "code",
   "id": "ea8d4572a9c04724",
   "metadata": {
    "ExecuteTime": {
     "end_time": "2025-09-24T09:14:15.456023Z",
     "start_time": "2025-09-24T09:14:15.453690Z"
    }
   },
   "source": [
    "graph_builder.add_edge(START, \"retrieve\")\n",
    "graph_builder.add_conditional_edges(\n",
    "    \"retrieve\",\n",
    "    check_doc_relevance,\n",
    "    {\n",
    "        \"relevant\": \"generate\",\n",
    "        \"irrelevant\": \"rewrite\",\n",
    "    },\n",
    ")\n",
    "graph_builder.add_edge(\"rewrite\", \"web_search\")\n",
    "graph_builder.add_edge(\"web_search\", \"generate\")\n",
    "graph_builder.add_edge(\"generate\", END)"
   ],
   "outputs": [
    {
     "data": {
      "text/plain": [
       "<langgraph.graph.state.StateGraph at 0x126e379e0>"
      ]
     },
     "execution_count": 13,
     "metadata": {},
     "output_type": "execute_result"
    }
   ],
   "execution_count": 13
  },
  {
   "cell_type": "code",
   "id": "fd6a53634cd2f07b",
   "metadata": {
    "ExecuteTime": {
     "end_time": "2025-09-24T09:14:15.467944Z",
     "start_time": "2025-09-24T09:14:15.462022Z"
    }
   },
   "source": [
    "graph = graph_builder.compile()\n",
    "draw_mermaid_with_html(graph.get_graph())"
   ],
   "outputs": [
    {
     "data": {
      "text/plain": [
       "<IPython.core.display.HTML object>"
      ],
      "text/html": [
       "\n",
       "    <div id=\"mermaid-container-c54587d0\"></div>\n",
       "\n",
       "    <script type=\"module\">\n",
       "        import mermaid from 'https://cdn.jsdelivr.net/npm/mermaid@10/dist/mermaid.esm.min.mjs';\n",
       "\n",
       "        mermaid.initialize({\n",
       "            startOnLoad: false,\n",
       "            theme: 'default',\n",
       "            securityLevel: 'loose'\n",
       "        });\n",
       "\n",
       "        const graphDefinition = `---\n",
       "config:\n",
       "  flowchart:\n",
       "    curve: linear\n",
       "---\n",
       "graph TD;\n",
       "\t__start__([<p>__start__</p>]):::first\n",
       "\tretrieve(retrieve)\n",
       "\tgenerate(generate)\n",
       "\trewrite(rewrite)\n",
       "\tweb_search(web_search)\n",
       "\t__end__([<p>__end__</p>]):::last\n",
       "\t__start__ --> retrieve;\n",
       "\tretrieve -. &nbsp;relevant&nbsp; .-> generate;\n",
       "\tretrieve -. &nbsp;irrelevant&nbsp; .-> rewrite;\n",
       "\trewrite --> web_search;\n",
       "\tweb_search --> generate;\n",
       "\tgenerate --> __end__;\n",
       "\tclassDef default fill:#f2f0ff,line-height:1.2\n",
       "\tclassDef first fill-opacity:0\n",
       "\tclassDef last fill:#bfb6fc\n",
       "`;\n",
       "        const container = document.getElementById('mermaid-container-c54587d0');\n",
       "\n",
       "        try {\n",
       "            const { svg } = await mermaid.render('graphDiv-' + Date.now(), graphDefinition);\n",
       "            container.innerHTML = svg;\n",
       "        } catch (error) {\n",
       "            container.innerHTML = '<pre>' + error + '</pre>';\n",
       "        }\n",
       "    </script>\n",
       "    "
      ]
     },
     "metadata": {},
     "output_type": "display_data",
     "jetTransient": {
      "display_id": null
     }
    }
   ],
   "execution_count": 14
  },
  {
   "cell_type": "code",
   "id": "26cff4334f46be1c",
   "metadata": {
    "ExecuteTime": {
     "end_time": "2025-09-24T09:14:22.360173Z",
     "start_time": "2025-09-24T09:14:15.475175Z"
    }
   },
   "source": [
    "graph.invoke({\"query\": \"서울시의 행정 구역 수는?\"})"
   ],
   "outputs": [
    {
     "data": {
      "text/plain": [
       "{'query': '서울시 행정구역 수\\u200b',\n",
       " 'context': [Document(metadata={'title': '서울특별시 - 나무위키', 'source': 'https://namu.wiki/w/%EC%84%9C%EC%9A%B8%ED%8A%B9%EB%B3%84%EC%8B%9C', 'score': 0.84277284, 'images': []}, page_content='서울특별시 ; 하위 행정구역. 25구 ; 면적. 605.2㎢[1] ; 인구. 9,321,863명[2] ; 인구 밀도. 15,405.64명/㎢[3] ; GRDP. $3,841억 (2022)[4].'),\n",
       "  Document(metadata={'title': '행정구역 - 서울연구데이터서비스', 'source': 'https://data.si.re.kr/data/%EC%A7%80%EB%8F%84%EB%A1%9C-%EB%B3%B8-%EC%84%9C%EC%9A%B8-2013/73', 'score': 0.82994765, 'images': []}, page_content='그 이후에도 행정동의 설치, 폐지로 인해 2010년 기준 서울시의 행정구역은 25개 자치구와 424개의 행정동이 되었다. 행정동은 행정의 편의를 위해 설정한 행정구역으로서'),\n",
       "  Document(metadata={'title': '서울특별시 - 위키백과, 우리 모두의 백과사전', 'source': 'https://ko.wikipedia.org/wiki/%EC%84%9C%EC%9A%B8%ED%8A%B9%EB%B3%84%EC%8B%9C', 'score': 0.7950386, 'images': []}, page_content='서울특별시의 행정구역은 2022년 5월말 기준으로 25개 자치구와 426개 행정동이 ... 특히, 최신 트렌드를 반영한 관광 정보를 발 빠르게 제공하여 관광객들이 서울을 제대로')],\n",
       " 'answer': '서울특별시의 행정구역은 다음과 같습니다.\\n\\n- **자치구(구) 수:** 25개  \\n- **행정동 수:** 2022년\\u202f5월 기준\\u202f426개  \\n\\n(참고: 2010년 기준으로는 행정동이 424개였으며, 이후 행정동의 설치·폐지로 현재는 426개가 되었습니다.)'}"
      ]
     },
     "execution_count": 15,
     "metadata": {},
     "output_type": "execute_result"
    }
   ],
   "execution_count": 15
  },
  {
   "cell_type": "code",
   "id": "d9ad8a5a75c7dd40",
   "metadata": {
    "ExecuteTime": {
     "end_time": "2025-09-24T09:14:22.386604Z",
     "start_time": "2025-09-24T09:14:22.384626Z"
    }
   },
   "source": [],
   "outputs": [],
   "execution_count": null
  }
 ],
 "metadata": {
  "kernelspec": {
   "display_name": "Python 3",
   "language": "python",
   "name": "python3"
  },
  "language_info": {
   "codemirror_mode": {
    "name": "ipython",
    "version": 2
   },
   "file_extension": ".py",
   "mimetype": "text/x-python",
   "name": "python",
   "nbconvert_exporter": "python",
   "pygments_lexer": "ipython2",
   "version": "2.7.6"
  }
 },
 "nbformat": 4,
 "nbformat_minor": 5
}

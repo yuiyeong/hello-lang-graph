{
 "cells": [
  {
   "cell_type": "markdown",
   "id": "3cb7bfce72973fe9",
   "metadata": {
    "collapsed": true
   },
   "source": [
    "# Rewrite 를 하는 RAG 만들기\n",
    "\n",
    "- 답변이 넣어준 정보와 관련이 없다면, 질문을 바꿔서 다시 질의하는 flow 를 추가해보기\n",
    "- 참고자료: [공식문서](https://langchain-ai.github.io/langgraph/tutorials/rag/langgraph_agentic_rag/)"
   ]
  },
  {
   "cell_type": "code",
   "execution_count": 1,
   "id": "d223e71c0489db47",
   "metadata": {
    "ExecuteTime": {
     "end_time": "2025-09-23T02:10:59.438311Z",
     "start_time": "2025-09-23T02:10:59.160031Z"
    }
   },
   "outputs": [],
   "source": [
    "import uuid\n",
    "\n",
    "from IPython.display import HTML\n",
    "from langchain_core.runnables.graph import Graph\n",
    "\n",
    "\n",
    "def draw_mermaid_with_html(g: Graph):\n",
    "    mermaid_code = g.draw_mermaid()\n",
    "\n",
    "    # 고유 ID 생성\n",
    "    container_id = f\"mermaid-container-{uuid.uuid4().hex[:8]}\"\n",
    "\n",
    "    html = f\"\"\"\n",
    "    <div id=\"{container_id}\"></div>\n",
    "\n",
    "    <script type=\"module\">\n",
    "        import mermaid from 'https://cdn.jsdelivr.net/npm/mermaid@10/dist/mermaid.esm.min.mjs';\n",
    "\n",
    "        mermaid.initialize({{\n",
    "            startOnLoad: false,\n",
    "            theme: 'default',\n",
    "            securityLevel: 'loose'\n",
    "        }});\n",
    "\n",
    "        const graphDefinition = `{mermaid_code}`;\n",
    "        const container = document.getElementById('{container_id}');\n",
    "\n",
    "        try {{\n",
    "            const {{ svg }} = await mermaid.render('graphDiv-' + Date.now(), graphDefinition);\n",
    "            container.innerHTML = svg;\n",
    "        }} catch (error) {{\n",
    "            container.innerHTML = '<pre>' + error + '</pre>';\n",
    "        }}\n",
    "    </script>\n",
    "    \"\"\"\n",
    "\n",
    "    display(HTML(html))"
   ]
  },
  {
   "cell_type": "markdown",
   "id": "b4ffd7841760c212",
   "metadata": {},
   "source": "## 1. Retriever 및 llm 정의"
  },
  {
   "cell_type": "code",
   "execution_count": 2,
   "id": "a90d4b279ae21f53",
   "metadata": {
    "ExecuteTime": {
     "end_time": "2025-09-23T02:11:02.175045Z",
     "start_time": "2025-09-23T02:10:59.441205Z"
    }
   },
   "outputs": [],
   "source": [
    "from pathlib import Path\n",
    "\n",
    "from langchain_chroma import Chroma\n",
    "from langchain_ollama import OllamaEmbeddings\n",
    "\n",
    "\n",
    "DATA_DIR = Path(\"../data\")\n",
    "\n",
    "chroma_persistent_dir = DATA_DIR / \"chroma_db\"\n",
    "\n",
    "embedding_function = OllamaEmbeddings(model=\"bge-m3:567m\")\n",
    "vector_store = Chroma(\n",
    "    embedding_function=embedding_function,\n",
    "    persist_directory=chroma_persistent_dir,\n",
    "    collection_name=\"korean_income_tax_law\",\n",
    ")"
   ]
  },
  {
   "cell_type": "code",
   "execution_count": 3,
   "id": "ca1dd46868cb0ad",
   "metadata": {
    "ExecuteTime": {
     "end_time": "2025-09-23T02:11:02.211417Z",
     "start_time": "2025-09-23T02:11:02.209968Z"
    }
   },
   "outputs": [],
   "source": [
    "income_tax_law_retriever = vector_store.as_retriever(kwars={\"k\": 1})"
   ]
  },
  {
   "cell_type": "code",
   "execution_count": 4,
   "id": "7018443eb1d03a5e",
   "metadata": {
    "ExecuteTime": {
     "end_time": "2025-09-23T02:11:02.223849Z",
     "start_time": "2025-09-23T02:11:02.213379Z"
    }
   },
   "outputs": [],
   "source": [
    "from langchain_ollama import ChatOllama\n",
    "\n",
    "\n",
    "llm = ChatOllama(model=\"gpt-oss:20b\")"
   ]
  },
  {
   "cell_type": "markdown",
   "id": "f447abc45f1db4b8",
   "metadata": {},
   "source": "## 2. Graph Builder 만들기"
  },
  {
   "cell_type": "markdown",
   "id": "c7b6a5660324e29a",
   "metadata": {},
   "source": "### 2.1. State 만들기"
  },
  {
   "cell_type": "code",
   "execution_count": 5,
   "id": "92725bb0f5bff18",
   "metadata": {
    "ExecuteTime": {
     "end_time": "2025-09-23T02:11:02.227583Z",
     "start_time": "2025-09-23T02:11:02.226034Z"
    }
   },
   "outputs": [],
   "source": [
    "from typing import Literal, TypedDict\n",
    "\n",
    "from langchain_core.documents import Document\n",
    "\n",
    "\n",
    "class AgentState(TypedDict):\n",
    "    query: str\n",
    "    context: list[Document]\n",
    "    answer: str"
   ]
  },
  {
   "cell_type": "markdown",
   "id": "58894c2047eb25d2",
   "metadata": {},
   "source": "## 2.2 builder 만들기"
  },
  {
   "cell_type": "code",
   "execution_count": 6,
   "id": "2375ea8db9c658e",
   "metadata": {
    "ExecuteTime": {
     "end_time": "2025-09-23T02:11:02.310397Z",
     "start_time": "2025-09-23T02:11:02.229403Z"
    }
   },
   "outputs": [],
   "source": [
    "from langgraph.graph import StateGraph\n",
    "\n",
    "\n",
    "graph_builder = StateGraph(AgentState)"
   ]
  },
  {
   "cell_type": "markdown",
   "id": "32849eb5708ae038",
   "metadata": {},
   "source": "## 3. Node 만들기"
  },
  {
   "cell_type": "markdown",
   "id": "58585432b09ed26d",
   "metadata": {},
   "source": "### 3.1. 검색과 생성 함수 만들기"
  },
  {
   "cell_type": "code",
   "execution_count": 7,
   "id": "892351232bc29089",
   "metadata": {
    "ExecuteTime": {
     "end_time": "2025-09-23T02:11:02.331423Z",
     "start_time": "2025-09-23T02:11:02.312824Z"
    }
   },
   "outputs": [],
   "source": [
    "from langchain_core.output_parsers import StrOutputParser\n",
    "from langchain_core.prompts import PromptTemplate\n",
    "\n",
    "\n",
    "def retrieve(state: AgentState) -> AgentState:\n",
    "    query = state[\"query\"]\n",
    "    retrieved_docs = income_tax_law_retriever.invoke(query)\n",
    "    context = \"\\n\\n\".join([doc.page_content for doc in retrieved_docs])\n",
    "    return {\"context\": context}\n",
    "\n",
    "\n",
    "def generate(state: AgentState) -> AgentState:\n",
    "    query = state[\"query\"]\n",
    "    context = state[\"context\"]\n",
    "\n",
    "    prompt = PromptTemplate.from_template(\"\"\"역할: 당신은 한국의 소득세법 전문가입니다.\n",
    "---\n",
    "지시: 다음 정보를 바탕으로 사용자의 질문에 답하세요.\n",
    "---\n",
    "정보: {context}\n",
    "---\n",
    "사용자 질문: {query}\"\"\")\n",
    "\n",
    "    rag_chain = prompt | llm | StrOutputParser()\n",
    "\n",
    "    answer = rag_chain.invoke(\n",
    "        {\n",
    "            \"query\": query,\n",
    "            \"context\": context,\n",
    "        }\n",
    "    )\n",
    "    return {\"answer\": answer}"
   ]
  },
  {
   "cell_type": "markdown",
   "id": "960977ede8713813",
   "metadata": {},
   "source": "### 3.2. 관련성 판별기와 질문 재생성 함수 만들기"
  },
  {
   "cell_type": "code",
   "execution_count": 8,
   "id": "d15cd4ea4036364f",
   "metadata": {
    "ExecuteTime": {
     "end_time": "2025-09-23T02:11:02.335619Z",
     "start_time": "2025-09-23T02:11:02.333789Z"
    }
   },
   "outputs": [],
   "source": [
    "# conditional edge 로 만들 것이기 때문에 Node 이름은 Literal 로 넘겨야함\n",
    "def determine_doc_relevance(state: AgentState) -> Literal[\"rewrite\", \"generate\"]:\n",
    "    query = state[\"query\"]\n",
    "    context = state[\"context\"]\n",
    "    prompt = PromptTemplate.from_template(\"\"\"역할: '검색된 문서 내용'과 '사용자의 질문'이 얼마나 연관이 있는지 등급 매기기입니다.\n",
    "---\n",
    "지시: 문서가 사용자 질문과 키워드나 의미적으로 관련이 있으면 1, 없으면 0을 반환하세요. 엄격한 기준이 아닌, 명백히 무관한 문서만 필터링하는 것이 목적입니다.\n",
    "---\n",
    "출력: 관련이 있으면 1, 없으면 0\n",
    "---\n",
    "검색된 문서 내용:\n",
    "{documents}\n",
    "---\n",
    "사용자 질문: {question}\n",
    "\"\"\")\n",
    "    doc_relevance_chain = prompt | llm | StrOutputParser()\n",
    "    is_relevant = doc_relevance_chain.invoke({\"question\": query, \"documents\": context})\n",
    "    print(\"    \", \"[determine_doc_relevance]\", \"is_relevant:\", type(is_relevant), is_relevant)\n",
    "    return \"generate\" if is_relevant == \"1\" else \"rewrite\""
   ]
  },
  {
   "cell_type": "code",
   "execution_count": 9,
   "id": "19f2247a1b5a82b8",
   "metadata": {
    "ExecuteTime": {
     "end_time": "2025-09-23T02:11:02.339202Z",
     "start_time": "2025-09-23T02:11:02.337496Z"
    }
   },
   "outputs": [],
   "source": [
    "def rewrite(state: AgentState) -> AgentState:\n",
    "    original_query = state[\"query\"]\n",
    "    dictionary = [\"- 사람과 관련된 표현 -> 거주자\"]\n",
    "    prompt = PromptTemplate.from_template(f\"\"\"역할: 당신은 질문 변환기입니다.\n",
    "---\n",
    "지시: 사용자의 질문을 보고, 우리의 사전을 참고해서 사용자의 질문을 변경해주세요.\n",
    "---\n",
    "출력: 변경된 질문\n",
    "---\n",
    "사전:\n",
    "{dictionary}\n",
    "---\n",
    "질문: {{query}}\n",
    "\"\"\")\n",
    "    rewrite_query_chain = prompt | llm | StrOutputParser()\n",
    "    query = rewrite_query_chain.invoke(original_query)\n",
    "    print(\"    \", \"[rewrite]\", original_query, \"->\", query)\n",
    "    return {\"query\": query}"
   ]
  },
  {
   "cell_type": "markdown",
   "id": "4530e5f844816b1d",
   "metadata": {
    "ExecuteTime": {
     "end_time": "2025-09-23T00:50:27.429941Z",
     "start_time": "2025-09-23T00:50:27.428664Z"
    }
   },
   "source": "## 4. Node 및 Edge 추가하기"
  },
  {
   "cell_type": "code",
   "execution_count": 10,
   "id": "bca468e15c5063da",
   "metadata": {
    "ExecuteTime": {
     "end_time": "2025-09-23T02:11:02.343890Z",
     "start_time": "2025-09-23T02:11:02.341007Z"
    }
   },
   "outputs": [
    {
     "data": {
      "text/plain": [
       "<langgraph.graph.state.StateGraph at 0x12294deb0>"
      ]
     },
     "execution_count": 10,
     "metadata": {},
     "output_type": "execute_result"
    }
   ],
   "source": [
    "graph_builder.add_sequence([retrieve, generate])\n",
    "graph_builder.add_node(\"rewrite\", rewrite)\n",
    "# conditional edge 를 넘기는 node 인 determine_doc_relevance 는 Node 로 추가하지 않음"
   ]
  },
  {
   "cell_type": "code",
   "execution_count": 11,
   "id": "a15bb085d8e2d918",
   "metadata": {
    "ExecuteTime": {
     "end_time": "2025-09-23T02:11:02.347779Z",
     "start_time": "2025-09-23T02:11:02.345741Z"
    }
   },
   "outputs": [
    {
     "data": {
      "text/plain": [
       "<langgraph.graph.state.StateGraph at 0x12294deb0>"
      ]
     },
     "execution_count": 11,
     "metadata": {},
     "output_type": "execute_result"
    }
   ],
   "source": [
    "from langgraph.graph import END, START\n",
    "\n",
    "\n",
    "graph_builder.add_edge(START, \"retrieve\")\n",
    "graph_builder.add_conditional_edges(\"retrieve\", determine_doc_relevance)\n",
    "graph_builder.add_edge(\"rewrite\", \"retrieve\")\n",
    "graph_builder.add_edge(\"generate\", END)"
   ]
  },
  {
   "cell_type": "markdown",
   "id": "774c5f6713944744",
   "metadata": {},
   "source": "## 5. Graph 생성"
  },
  {
   "cell_type": "code",
   "execution_count": 12,
   "id": "7a4865249eae5ee4",
   "metadata": {
    "ExecuteTime": {
     "end_time": "2025-09-23T02:11:02.358590Z",
     "start_time": "2025-09-23T02:11:02.351641Z"
    }
   },
   "outputs": [
    {
     "data": {
      "text/html": [
       "\n",
       "    <div id=\"mermaid-container-a7e7d9a2\"></div>\n",
       "\n",
       "    <script type=\"module\">\n",
       "        import mermaid from 'https://cdn.jsdelivr.net/npm/mermaid@10/dist/mermaid.esm.min.mjs';\n",
       "\n",
       "        mermaid.initialize({\n",
       "            startOnLoad: false,\n",
       "            theme: 'default',\n",
       "            securityLevel: 'loose'\n",
       "        });\n",
       "\n",
       "        const graphDefinition = `---\n",
       "config:\n",
       "  flowchart:\n",
       "    curve: linear\n",
       "---\n",
       "graph TD;\n",
       "\t__start__([<p>__start__</p>]):::first\n",
       "\tretrieve(retrieve)\n",
       "\tgenerate(generate)\n",
       "\trewrite(rewrite)\n",
       "\t__end__([<p>__end__</p>]):::last\n",
       "\t__start__ --> retrieve;\n",
       "\tretrieve --> generate;\n",
       "\tretrieve -.-> rewrite;\n",
       "\trewrite --> retrieve;\n",
       "\tgenerate --> __end__;\n",
       "\tclassDef default fill:#f2f0ff,line-height:1.2\n",
       "\tclassDef first fill-opacity:0\n",
       "\tclassDef last fill:#bfb6fc\n",
       "`;\n",
       "        const container = document.getElementById('mermaid-container-a7e7d9a2');\n",
       "\n",
       "        try {\n",
       "            const { svg } = await mermaid.render('graphDiv-' + Date.now(), graphDefinition);\n",
       "            container.innerHTML = svg;\n",
       "        } catch (error) {\n",
       "            container.innerHTML = '<pre>' + error + '</pre>';\n",
       "        }\n",
       "    </script>\n",
       "    "
      ],
      "text/plain": [
       "<IPython.core.display.HTML object>"
      ]
     },
     "jetTransient": {
      "display_id": null
     },
     "metadata": {},
     "output_type": "display_data"
    }
   ],
   "source": [
    "basic_agent_graph = graph_builder.compile()\n",
    "draw_mermaid_with_html(basic_agent_graph.get_graph())"
   ]
  },
  {
   "cell_type": "code",
   "execution_count": 13,
   "id": "9ae9c70ead76e1be",
   "metadata": {
    "ExecuteTime": {
     "end_time": "2025-09-23T02:12:07.397601Z",
     "start_time": "2025-09-23T02:11:02.363131Z"
    }
   },
   "outputs": [
    {
     "name": "stdout",
     "output_type": "stream",
     "text": [
      "     [determine_doc_relevance] is_relevant: <class 'str'> 1\n"
     ]
    },
    {
     "data": {
      "text/plain": [
       "{'query': '연봉 5천 만원인 사람의 소득세는?',\n",
       " 'context': '과세기간의 총수입금액에서 이에 사용된 필요경비를 공제한 금액으로 하며, 필요경비가 총 수입금액을 초과하는 경우 그 초과하는 금액을 \"결손금\"이라 한다. ③ 제1항 각 호에 따른 사업의 범위에 관하여는 이 법에 특별한 규정이 있는 경우 외에는 「통계법」 제22조에 따라 통계청장이 고시하는 한국표준산업분류에 따르고, 그 밖의 사업소득의 범위에 관하여 필요한 사항은 대통령령으로 정한다.# [전문개정 2009. 12. 31.]제20조(근로소득) ① 근로소득은 해당 과세기간에 발생한 다음 각 호의 소득으로 한다. <개정 2016. 12. 20., 2024. 12. 31.>- 1. 근로를 제공함으로써 받는 봉급 · 급료 · 보수 · 세비 · 임금 · 상여 · 수당과 이와 유사한 성질의 급여 - 2. 법인의 주주총회 · 사원총회 또는 이에 준하는 의결기관의 결의에 따라 상여로 받는 소득 - 3. 「법인세법」에 따라 상여로 처분된 금액 - 4. 퇴직함으로써 받는 소득으로서 퇴직소득에 속하지 아니하는 소득 - 5. 종업원등 또는 대학의 교직원이 지급받는 직무발명보상금(제21조제1항제22호의2에 따른 직무발명보상금은 제 - 외한다) - 6. 사업자나 법인이 생산 · 공급하는 재화 또는 용역을 그 사업자나 법인(「독점규제 및 공정거래에 관한 법률」 에 따 - 른 계열회사를 포함한다)의 사업장에 종사하는 임원등에게 대통령령으로 정하는 바에 따라 시가보다 낮은 가격 - 으로 제공하거나 구입할 수 있도록 지원함으로써 해당 임원등이 얻는 이익 - ② 근로소득금액은 제1항 각 호의 소득의 금액의 합계액(비과세소득의 금액은 제외하며, 이하 \"총급여액\"이라 한다 - )에서 제47조에 따른 근로소득공제를 적용한 금액으로 한다. - ③ 근로소득의 범위에 관하여 필요한 사항은 대통령령으로 정한다. - [전문개정 2009. 12. 31.]\\n\\n지급) 국세청장은 제150조에 따라 근로소득에 대한 소득세를 징수하여 납부한 자에게 대통령령으로 정하는 바에 따라 교부금을 지급하여야 한다. <개정 2024. 12. 31.>[전문개정 2009. 12. 31.]제170조(질문 · 조사) ① 소득세에 관한 사무에 종사하는 공무원은 그 직무 수행을 위하여 필요한 경우에는 다음 각 호 의 어느 하나에 해당하는 자에 대하여 질문을 하거나 해당 장부 · 서류 또는 그 밖의 물건을 조사하거나 그 제출을 명할 수 있다. 다만, 제21조제1항제26호에 따른 종교인소득(제21조제4항에 해당하는 경우를 포함한다)에 대해서는 종교단체의 장부 · 서류 또는 그 밖의 물건 중에서 종교인소득과 관련된 부분에 한정하여 조사하거나 그 제출을 명 할 수 있다. <개정 2012. 1. 1., 2015. 12. 15., 2018. 12. 31., 2020. 6. 9., 2020. 12. 29.>- 1. 납세의무자 또는 납세의무가 있다고 인정되는 자 - 2. 원천징수의무자 - 3. 납세조합 - 4. 지급명세서 제출의무자 - 5. 제156조 및 제156조의3부터 제156조의6까지의 규정에 따른 원천징수의무자 - 6. 「국세기본법」 제82조에 따른 납세관리인 - 7. 제1호에서 규정하는 자와 거래가 있다고 인정되는 자 - 8. 납세의무자가 조직한 동업조합과 이에 준하는 단체 - 9. 기부금영수증을 발급하는 자 - ② 제1항을 적용하는 경우 소득세에 관한 사무에 종사하는 공무원은 직무를 위하여 필요한 범위 외에 다른 목적 등 - 을 위하여 그 권한을 남용해서는 아니 된다.<신설 2018. 12. 31., 2020. 6. 9.>\\n\\n제외한다)은 기타소득으로 한다.<신설 2020. 12. 29.>③ 기타소득금액은 해당 과세기간의 총수입금액에서 이에 사용된 필요경비를 공제한 금액으로 한다.<개정 2020.12. 29.>법제처14국가법령정보센터소득세법- ④ 제1항제26호에 따른 종교인소득에 대하여 제20조제1항에 따른 근로소득으로 원천징수하거나 과세표준확정신고 - 를 한 경우에는 해당 소득을 근로소득으로 본다.<신설 2015. 12. 15., 2020. 12. 29.> - ⑤ 기타소득의 구체적 범위 및 계산방법과 그 밖에 필요한 사항은 대통령령으로 정한다.<개정 2015. 12. 15., 2020. - 12. 29.> - [전문개정 2009. 12. 31.] 제22조(퇴직소득) ① 퇴직소득은 해당 과세기간에 발생한 다음 각 호의 소득으로 한다. <개정 2013. 1. 1.>1. 공적연금 관련법에 따라 받는 일시금- 2. 사용자 부담금을 기초로 하여 현실적인 퇴직을 원인으로 지급받는 소득 - 3. 그 밖에 제1호 및 제2호와 유사한 소득으로서 대통령령으로 정하는 소득 - ② 제1항제1호에 따른 퇴직소득은 2002년 1월 1일 이후에 납입된 연금 기여금 및 사용자 부담금을 기초로 하거나 - 2002년 1월 1일 이후 근로의 제공을 기초로 하여 받은 일시금으로 한다.<개정 2013. 1. 1.> - ③퇴직소득금액은 제1항 각 호에 따른 소득의 금액의 합계액(비과세소득의 금액은 제외한다)으로 한다. 다만, 대통 - 령령으로 정하는 임원의 퇴직소득금액(제1항제1호의 금액은 제외하며, 2011년 12월 31일에 퇴직하였다고 가정할 - 때 지급받을 대통령령으로 정하는 퇴직소득금액이 있는 경우에는 그 금액을 뺀 금액을 말한다)이 다음 계산식에 따 - 라 계산한 금액을 초과하는 경우에는 제1항에도 불구하고 그 초과하는 금액은 근로소득으로 본다.<개정 2012. 1. 1, 2013. 1. 1, 2014. 12. 23., 2019. 12. 31.>\\n\\n해당 연금계좌에 있는 피상속인의 소득금액은 상속인의 소득금액으로 보아 소득세를 계산한다- <신설 2013. 1. 1.> - ③ 제2항에 따른 연금계좌의 승계방법 및 절차 등에 관하여 필요한 사항은 대통령령으로 정한다.<신설 2013. 1. 1.> - [전문개정 2009. 12. 31.] 제45조(결손금 및 이월결손금의 공제) ① 사업자가 비치 · 기록한 장부에 의하여 해당 과세기간의 사업소득금액을 계산 할 때 발생한 결손금은 그 과세기간의 종합소득과세표준을 계산할 때 근로소득금액 · 연금소득금액 · 기타소득금액· 이자소득금액 · 배당소득금액에서 순서대로 공제한다.- ② 제1항에도 불구하고 다음 각 호의 어느 하나에 해당하는 사업(이하 \"부동산임대업\"이라 한다)에서 발생한 결손금 - 은 종합소득 과세표준을 계산할 때 공제하지 아니한다. 다만, 주거용 건물 임대업의 경우에는 그러하지 아니하다.',\n",
       " 'answer': '## 2024\\u202f년 한국 소득세 계산 예시  \\n**연봉 5천만 원(50,000,000\\u202f원)**\\n\\n> **※ 주의**  \\n> - 실질적인 소득세는 부양가족 수, 기부금, 의료비, 교육비 등 “특별·추가공제” 여부에 따라 달라집니다.  \\n> - 아래 예시는 “근로소득공제”와 **기본공제(1,200,000\\u202f원)** 만 적용한 **단순 계산**입니다.  \\n> - 실제 신고 시에는 2024년 소득세법·국세청 가이드를 참고하시기 바랍니다.\\n\\n---\\n\\n### 1. 1. 총급여액 → 근로소득공제\\n| 구간 | 근로소득공제 공식 | 근로소득공제 금액 |\\n|------|-----------------|-----------------|\\n| 0\\u202f~\\u202f12,000,000\\u202f원 | 40\\u202f% | 4,800,000\\u202f원 |\\n| 12,000,001\\u202f~\\u202f46,000,000\\u202f원 | 450,000\\u202f+\\u202f30\\u202f%(급여‑12,000,000) | 4,770,000\\u202f원 |\\n| 46,000,001\\u202f~\\u202f80,000,000\\u202f원 | 1,200,000\\u202f+\\u202f20\\u202f%(급여‑46,000,000) | 5,360,000\\u202f원 |\\n| 80,000,001\\u202f~\\u202f150,000,000\\u202f원 | 1,720,000\\u202f+\\u202f10\\u202f%(급여‑80,000,000) | 6,220,000\\u202f원 |\\n| 150,000,001\\u202f~\\u202f200,000,000\\u202f원 | 2,220,000\\u202f+\\u202f5\\u202f%(급여‑150,000,000) | 7,020,000\\u202f원 |\\n| 200,000,001\\u202f~\\u202f300,000,000\\u202f원 | 2,720,000\\u202f+\\u202f3\\u202f%(급여‑200,000,000) | 7,720,000\\u202f원 |\\n| 300,000,001\\u202f~\\u202f400,000,000\\u202f원 | 3,220,000\\u202f+\\u202f1\\u202f%(급여‑300,000,000) | 8,420,000\\u202f원 |\\n| 400,000,001\\u202f~\\u202f600,000,000\\u202f원 | 3,720,000\\u202f+\\u202f0.5\\u202f%(급여‑400,000,000) | 9,170,000\\u202f원 |\\n| 600,000,001\\u202f~\\u202f1,000,000,000\\u202f원 | 4,720,000\\u202f+\\u202f0.3\\u202f%(급여‑600,000,000) | 10,170,000\\u202f원 |\\n\\n> **5천만 원(50,000,000\\u202f원)** 은 **400,000,001\\u202f~\\u202f600,000,000\\u202f원** 구간에 해당합니다.  \\n> 따라서 근로소득공제 = 3,720,000\\u202f원 + 0.5\\u202f% × (50,000,000\\u202f원\\u202f–\\u202f40,000,000\\u202f원)  \\n> = 3,720,000\\u202f원 + 50,000\\u202f원 = **3,770,000\\u202f원**\\n\\n---\\n\\n### 2. 2. 과세표준(과세소득) 계산\\n| 항목 | 금액 |\\n|------|------|\\n| 총급여액 | 50,000,000\\u202f원 |\\n| → 근로소득공제 | –3,770,000\\u202f원 |\\n| = 과세소득 (기본공제 전) | 46,230,000\\u202f원 |\\n| → 기본공제 (1,200,000\\u202f원) | –1,200,000\\u202f원 |\\n| **과세표준(과세소득)** | **45,030,000\\u202f원** |\\n\\n---\\n\\n### 3. 3. 소득세율 적용 (2024\\u202f년)\\n| 과세표준 구간 | 세율 | 비고 |\\n|--------------|------|------|\\n| 0\\u202f~\\u202f12,000,000\\u202f원 | 6\\u202f% | |\\n| 12,000,001\\u202f~\\u202f46,000,000\\u202f원 | 15\\u202f% | |\\n| 46,000,001\\u202f~\\u202f88,000,000\\u202f원 | 24\\u202f% | |\\n| 88,000,001\\u202f~\\u202f150,000,000\\u202f원 | 35\\u202f% | |\\n| 150,000,001\\u202f~\\u202f300,000,000\\u202f원 | 38\\u202f% | |\\n| 300,000,001\\u202f~\\u202f500,000,000\\u202f원 | 40\\u202f% | |\\n| 500,000,001\\u202f~\\u202f1,000,000,000\\u202f원 | 42\\u202f% | |\\n\\n> **45,030,000\\u202f원** 은 12,000,000\\u202f원 초과 구간(15\\u202f%)에 속합니다.\\n\\n#### 세액 계산\\n1. **기본 세액**  \\n   12,000,000\\u202f원 × 6\\u202f% = **720,000\\u202f원**\\n2. **추가 세액**  \\n   (45,030,000\\u202f원 – 12,000,000\\u202f원) × 15\\u202f%  \\n   = 33,030,000\\u202f원 × 15\\u202f%  \\n   = **4,954,500\\u202f원**\\n3. **총 소득세**  \\n   720,000\\u202f원 + 4,954,500\\u202f원 = **5,674,500\\u202f원**\\n\\n---\\n\\n## 정리\\n\\n| 구분 | 금액 |\\n|------|------|\\n| 총급여액 | 50,000,000\\u202f원 |\\n| 근로소득공제 | –3,770,000\\u202f원 |\\n| 기본공제 | –1,200,000\\u202f원 |\\n| **과세표준** | **45,030,000\\u202f원** |\\n| **소득세** | **5,674,500\\u202f원** |\\n\\n> **≈ 5,674,500\\u202f원** (≈ 11.35\\u202f% 과세율)\\n\\n> 실제로는 **기타 공제(기부금, 의료비, 교육비 등)** 가 추가되면 과세표준이 더 낮아져 세액이 더 줄어듭니다.  \\n> 부양가족이 있으면 추가공제·세액공제(예: 부양가족 1인당 150,000\\u202f원 등)가 적용됩니다.\\n\\n---\\n\\n### 참고 문헌\\n- **소득세법 제45조(결손금 및 이월결손금의 공제) 등**  \\n- **2024\\u202f년 국세청 소득세 과세표준별 세율표** (공개 가이드)  \\n- **근로소득공제(근로소득의 소득공제) 계산표** (국세청)\\n\\n> **※ 실제 신고 시에는 국세청 홈택스(또는 세무사·회계사)에서 제공하는 소득세 계산기**를 활용하시는 것이 가장 정확합니다.'}"
      ]
     },
     "execution_count": 13,
     "metadata": {},
     "output_type": "execute_result"
    }
   ],
   "source": [
    "basic_agent_graph.invoke({\"query\": \"연봉 5천 만원인 사람의 소득세는?\"})"
   ]
  }
 ],
 "metadata": {
  "kernelspec": {
   "display_name": "Python 3",
   "language": "python",
   "name": "python3"
  },
  "language_info": {
   "codemirror_mode": {
    "name": "ipython",
    "version": 2
   },
   "file_extension": ".py",
   "mimetype": "text/x-python",
   "name": "python",
   "nbconvert_exporter": "python",
   "pygments_lexer": "ipython2",
   "version": "2.7.6"
  }
 },
 "nbformat": 4,
 "nbformat_minor": 5
}
